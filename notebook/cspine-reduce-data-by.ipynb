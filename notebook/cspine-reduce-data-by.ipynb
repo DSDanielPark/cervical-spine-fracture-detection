{
 "cells": [
  {
   "cell_type": "markdown",
   "id": "69453ec6",
   "metadata": {
    "papermill": {
     "duration": 0.012041,
     "end_time": "2022-09-16T00:49:16.596714",
     "exception": false,
     "start_time": "2022-09-16T00:49:16.584673",
     "status": "completed"
    },
    "tags": []
   },
   "source": [
    "# Use Fastai to label images containing CSpine\n",
    "\n",
    "There are extra slices above and below the cspine which don't contribute to predictions. It would be helpful to only focus on the pertinent images."
   ]
  },
  {
   "cell_type": "code",
   "execution_count": 1,
   "id": "527654f6",
   "metadata": {
    "execution": {
     "iopub.execute_input": "2022-09-16T00:49:16.619438Z",
     "iopub.status.busy": "2022-09-16T00:49:16.618926Z",
     "iopub.status.idle": "2022-09-16T00:49:49.782186Z",
     "shell.execute_reply": "2022-09-16T00:49:49.781010Z"
    },
    "papermill": {
     "duration": 33.177948,
     "end_time": "2022-09-16T00:49:49.785013",
     "exception": false,
     "start_time": "2022-09-16T00:49:16.607065",
     "status": "completed"
    },
    "tags": []
   },
   "outputs": [
    {
     "name": "stdout",
     "output_type": "stream",
     "text": [
      "\u001b[33mWARNING: Running pip as the 'root' user can result in broken permissions and conflicting behaviour with the system package manager. It is recommended to use a virtual environment instead: https://pip.pypa.io/warnings/venv\u001b[0m\u001b[33m\r\n",
      "\u001b[0m\u001b[33mWARNING: Running pip as the 'root' user can result in broken permissions and conflicting behaviour with the system package manager. It is recommended to use a virtual environment instead: https://pip.pypa.io/warnings/venv\u001b[0m\u001b[33m\r\n",
      "\u001b[0m\u001b[33mWARNING: Running pip as the 'root' user can result in broken permissions and conflicting behaviour with the system package manager. It is recommended to use a virtual environment instead: https://pip.pypa.io/warnings/venv\u001b[0m\u001b[33m\r\n",
      "\u001b[0m"
     ]
    }
   ],
   "source": [
    "! pip install pylibjpeg -q\n",
    "! pip install python-gdcm -q\n",
    "! pip install pylibjpeg-libjpeg -q"
   ]
  },
  {
   "cell_type": "markdown",
   "id": "b827e796",
   "metadata": {
    "papermill": {
     "duration": 0.010264,
     "end_time": "2022-09-16T00:49:49.806358",
     "exception": false,
     "start_time": "2022-09-16T00:49:49.796094",
     "status": "completed"
    },
    "tags": []
   },
   "source": [
    "## Libraries"
   ]
  },
  {
   "cell_type": "code",
   "execution_count": 2,
   "id": "36a10333",
   "metadata": {
    "execution": {
     "iopub.execute_input": "2022-09-16T00:49:49.830145Z",
     "iopub.status.busy": "2022-09-16T00:49:49.829302Z",
     "iopub.status.idle": "2022-09-16T00:49:53.791793Z",
     "shell.execute_reply": "2022-09-16T00:49:53.790638Z"
    },
    "papermill": {
     "duration": 3.977357,
     "end_time": "2022-09-16T00:49:53.794416",
     "exception": false,
     "start_time": "2022-09-16T00:49:49.817059",
     "status": "completed"
    },
    "tags": []
   },
   "outputs": [],
   "source": [
    "from fastai.vision.all import *\n",
    "from fastai.medical.imaging import *\n",
    "from fastcore.all import *\n",
    "\n",
    "import pandas as pd\n",
    "import pydicom\n",
    "import numpy as np\n",
    "\n",
    "import matplotlib.image as mpimg\n",
    "import cv2\n",
    "import nibabel as nib\n",
    "\n",
    "from tqdm.auto import tqdm"
   ]
  },
  {
   "cell_type": "markdown",
   "id": "41d8b48d",
   "metadata": {
    "papermill": {
     "duration": 0.010299,
     "end_time": "2022-09-16T00:49:53.815360",
     "exception": false,
     "start_time": "2022-09-16T00:49:53.805061",
     "status": "completed"
    },
    "tags": []
   },
   "source": [
    "## Gather .csv files"
   ]
  },
  {
   "cell_type": "code",
   "execution_count": 3,
   "id": "91d79a14",
   "metadata": {
    "execution": {
     "iopub.execute_input": "2022-09-16T00:49:53.839383Z",
     "iopub.status.busy": "2022-09-16T00:49:53.837656Z",
     "iopub.status.idle": "2022-09-16T00:49:53.915932Z",
     "shell.execute_reply": "2022-09-16T00:49:53.914958Z"
    },
    "papermill": {
     "duration": 0.092189,
     "end_time": "2022-09-16T00:49:53.917976",
     "exception": false,
     "start_time": "2022-09-16T00:49:53.825787",
     "status": "completed"
    },
    "tags": []
   },
   "outputs": [
    {
     "data": {
      "text/html": [
       "<div>\n",
       "<style scoped>\n",
       "    .dataframe tbody tr th:only-of-type {\n",
       "        vertical-align: middle;\n",
       "    }\n",
       "\n",
       "    .dataframe tbody tr th {\n",
       "        vertical-align: top;\n",
       "    }\n",
       "\n",
       "    .dataframe thead th {\n",
       "        text-align: right;\n",
       "    }\n",
       "</style>\n",
       "<table border=\"1\" class=\"dataframe\">\n",
       "  <thead>\n",
       "    <tr style=\"text-align: right;\">\n",
       "      <th></th>\n",
       "      <th>StudyInstanceUID</th>\n",
       "      <th>patient_overall</th>\n",
       "      <th>C1</th>\n",
       "      <th>C2</th>\n",
       "      <th>C3</th>\n",
       "      <th>C4</th>\n",
       "      <th>C5</th>\n",
       "      <th>C6</th>\n",
       "      <th>C7</th>\n",
       "    </tr>\n",
       "  </thead>\n",
       "  <tbody>\n",
       "    <tr>\n",
       "      <th>0</th>\n",
       "      <td>1.2.826.0.1.3680043.6200</td>\n",
       "      <td>1</td>\n",
       "      <td>1</td>\n",
       "      <td>1</td>\n",
       "      <td>0</td>\n",
       "      <td>0</td>\n",
       "      <td>0</td>\n",
       "      <td>0</td>\n",
       "      <td>0</td>\n",
       "    </tr>\n",
       "    <tr>\n",
       "      <th>1</th>\n",
       "      <td>1.2.826.0.1.3680043.27262</td>\n",
       "      <td>1</td>\n",
       "      <td>0</td>\n",
       "      <td>1</td>\n",
       "      <td>0</td>\n",
       "      <td>0</td>\n",
       "      <td>0</td>\n",
       "      <td>0</td>\n",
       "      <td>0</td>\n",
       "    </tr>\n",
       "    <tr>\n",
       "      <th>2</th>\n",
       "      <td>1.2.826.0.1.3680043.21561</td>\n",
       "      <td>1</td>\n",
       "      <td>0</td>\n",
       "      <td>1</td>\n",
       "      <td>0</td>\n",
       "      <td>0</td>\n",
       "      <td>0</td>\n",
       "      <td>0</td>\n",
       "      <td>0</td>\n",
       "    </tr>\n",
       "    <tr>\n",
       "      <th>3</th>\n",
       "      <td>1.2.826.0.1.3680043.12351</td>\n",
       "      <td>0</td>\n",
       "      <td>0</td>\n",
       "      <td>0</td>\n",
       "      <td>0</td>\n",
       "      <td>0</td>\n",
       "      <td>0</td>\n",
       "      <td>0</td>\n",
       "      <td>0</td>\n",
       "    </tr>\n",
       "    <tr>\n",
       "      <th>4</th>\n",
       "      <td>1.2.826.0.1.3680043.1363</td>\n",
       "      <td>1</td>\n",
       "      <td>0</td>\n",
       "      <td>0</td>\n",
       "      <td>0</td>\n",
       "      <td>0</td>\n",
       "      <td>1</td>\n",
       "      <td>0</td>\n",
       "      <td>0</td>\n",
       "    </tr>\n",
       "  </tbody>\n",
       "</table>\n",
       "</div>"
      ],
      "text/plain": [
       "            StudyInstanceUID  patient_overall  C1  C2  C3  C4  C5  C6  C7\n",
       "0   1.2.826.0.1.3680043.6200                1   1   1   0   0   0   0   0\n",
       "1  1.2.826.0.1.3680043.27262                1   0   1   0   0   0   0   0\n",
       "2  1.2.826.0.1.3680043.21561                1   0   1   0   0   0   0   0\n",
       "3  1.2.826.0.1.3680043.12351                0   0   0   0   0   0   0   0\n",
       "4   1.2.826.0.1.3680043.1363                1   0   0   0   0   1   0   0"
      ]
     },
     "execution_count": 3,
     "metadata": {},
     "output_type": "execute_result"
    }
   ],
   "source": [
    "root = Path('../input/rsna-2022-cervical-spine-fracture-detection')\n",
    "train_folder = root/'train_images'\n",
    "test_folder = root/'test_images'\n",
    "\n",
    "seg_folder = root/'segmentations'\n",
    "segmentations = list(seg_folder.iterdir())\n",
    "seg_ids = [o.stem for o in segmentations]\n",
    "\n",
    "train_df = pd.read_csv(\"../input/rsna-2022-cervical-spine-fracture-detection/train.csv\")\n",
    "test_df = pd.read_csv(\"../input/rsna-2022-cervical-spine-fracture-detection/test.csv\")\n",
    "bbdf = pd.read_csv('../input/rsna-2022-cervical-spine-fracture-detection/train_bounding_boxes.csv')\n",
    "\n",
    "train_df.head()"
   ]
  },
  {
   "cell_type": "markdown",
   "id": "c9e4ae8f",
   "metadata": {
    "papermill": {
     "duration": 0.010642,
     "end_time": "2022-09-16T00:49:53.939411",
     "exception": false,
     "start_time": "2022-09-16T00:49:53.928769",
     "status": "completed"
    },
    "tags": []
   },
   "source": [
    "## Load segmentation files and get top and bottom slices with CSpine labels\n",
    "\n",
    "### CSpine labels are 1-8, 0 is background"
   ]
  },
  {
   "cell_type": "code",
   "execution_count": 4,
   "id": "a1259f87",
   "metadata": {
    "execution": {
     "iopub.execute_input": "2022-09-16T00:49:53.962979Z",
     "iopub.status.busy": "2022-09-16T00:49:53.962078Z",
     "iopub.status.idle": "2022-09-16T00:49:53.973726Z",
     "shell.execute_reply": "2022-09-16T00:49:53.972892Z"
    },
    "papermill": {
     "duration": 0.02528,
     "end_time": "2022-09-16T00:49:53.975758",
     "exception": false,
     "start_time": "2022-09-16T00:49:53.950478",
     "status": "completed"
    },
    "tags": []
   },
   "outputs": [],
   "source": [
    "def get_index_boundaries(study_id):\n",
    "    seg = nib.load(seg_folder/(study_id + '.nii')).get_fdata()\n",
    "    c = {1., 2., 3., 4., 5., 6., 7.}\n",
    "    last = 0\n",
    "    first = 100000\n",
    "    count = seg.shape[2]\n",
    "    for i in range(count):\n",
    "        arr = seg[:,:,i]\n",
    "        rowvals = set(np.unique(arr))\n",
    "        if len(c.intersection(rowvals)) > 0:\n",
    "            if i < first:\n",
    "                first = i\n",
    "            if i > last:\n",
    "                last = i\n",
    "    return first, last, count        \n",
    "            \n",
    "def get_slice_boundaries_from_sag(study_id):\n",
    "    seg = nib.load(seg_folder/(study_id + '.nii')).get_fdata()\n",
    "    c = {1., 2., 3., 4., 5., 6., 7.}\n",
    "    n=16\n",
    "    spread=160\n",
    "    thickness = int(spread/n)\n",
    "    slice = int(seg.shape[0]/2 - spread/2)\n",
    "\n",
    "    max = 0\n",
    "    min = 100000\n",
    "    for i in range(n):\n",
    "        #use first dimension to get sagittal views\n",
    "        arr = seg[slice + (i*thickness),:,:]\n",
    "        #flip and rotate so that C1 is at the top\n",
    "        arr = np.flip(arr, 0)\n",
    "        arr = np.rot90(arr)\n",
    "        vals = set(np.unique(arr))\n",
    "        if (c.intersection(vals) == c):\n",
    "            #ignore first and last slice because of issues with '1.2.826.0.1.3680043.1363'\n",
    "            for i in range(1, arr.shape[0] - 1):\n",
    "                row = arr[i]\n",
    "                rowvals = set(np.unique(row))\n",
    "                if len(c.intersection(rowvals)) > 0:\n",
    "                    if i > max:\n",
    "                        max = i\n",
    "                    if i < min:\n",
    "                        min = i\n",
    "    return (min, max, seg.shape)"
   ]
  },
  {
   "cell_type": "markdown",
   "id": "4c5e11e1",
   "metadata": {
    "papermill": {
     "duration": 0.010309,
     "end_time": "2022-09-16T00:49:53.996690",
     "exception": false,
     "start_time": "2022-09-16T00:49:53.986381",
     "status": "completed"
    },
    "tags": []
   },
   "source": [
    "## Create a dataframe of the max and min slices containing any cspine label\n",
    "\n",
    "### Slices above the cspine are labeled 'head' and below are labeled 'tspine'"
   ]
  },
  {
   "cell_type": "code",
   "execution_count": 5,
   "id": "60312b3a",
   "metadata": {
    "execution": {
     "iopub.execute_input": "2022-09-16T00:49:54.019354Z",
     "iopub.status.busy": "2022-09-16T00:49:54.018780Z",
     "iopub.status.idle": "2022-09-16T00:49:54.064339Z",
     "shell.execute_reply": "2022-09-16T00:49:54.063375Z"
    },
    "papermill": {
     "duration": 0.059182,
     "end_time": "2022-09-16T00:49:54.066470",
     "exception": false,
     "start_time": "2022-09-16T00:49:54.007288",
     "status": "completed"
    },
    "tags": []
   },
   "outputs": [
    {
     "data": {
      "text/html": [
       "<div>\n",
       "<style scoped>\n",
       "    .dataframe tbody tr th:only-of-type {\n",
       "        vertical-align: middle;\n",
       "    }\n",
       "\n",
       "    .dataframe tbody tr th {\n",
       "        vertical-align: top;\n",
       "    }\n",
       "\n",
       "    .dataframe thead th {\n",
       "        text-align: right;\n",
       "    }\n",
       "</style>\n",
       "<table border=\"1\" class=\"dataframe\">\n",
       "  <thead>\n",
       "    <tr style=\"text-align: right;\">\n",
       "      <th></th>\n",
       "      <th>study_id</th>\n",
       "      <th>slice</th>\n",
       "      <th>label</th>\n",
       "    </tr>\n",
       "  </thead>\n",
       "  <tbody>\n",
       "    <tr>\n",
       "      <th>0</th>\n",
       "      <td>1.2.826.0.1.3680043.780</td>\n",
       "      <td>2</td>\n",
       "      <td>head</td>\n",
       "    </tr>\n",
       "    <tr>\n",
       "      <th>1</th>\n",
       "      <td>1.2.826.0.1.3680043.780</td>\n",
       "      <td>3</td>\n",
       "      <td>head</td>\n",
       "    </tr>\n",
       "    <tr>\n",
       "      <th>2</th>\n",
       "      <td>1.2.826.0.1.3680043.780</td>\n",
       "      <td>4</td>\n",
       "      <td>head</td>\n",
       "    </tr>\n",
       "    <tr>\n",
       "      <th>3</th>\n",
       "      <td>1.2.826.0.1.3680043.780</td>\n",
       "      <td>5</td>\n",
       "      <td>head</td>\n",
       "    </tr>\n",
       "    <tr>\n",
       "      <th>4</th>\n",
       "      <td>1.2.826.0.1.3680043.780</td>\n",
       "      <td>6</td>\n",
       "      <td>head</td>\n",
       "    </tr>\n",
       "  </tbody>\n",
       "</table>\n",
       "</div>"
      ],
      "text/plain": [
       "                  study_id  slice label\n",
       "0  1.2.826.0.1.3680043.780      2  head\n",
       "1  1.2.826.0.1.3680043.780      3  head\n",
       "2  1.2.826.0.1.3680043.780      4  head\n",
       "3  1.2.826.0.1.3680043.780      5  head\n",
       "4  1.2.826.0.1.3680043.780      6  head"
      ]
     },
     "execution_count": 5,
     "metadata": {},
     "output_type": "execute_result"
    }
   ],
   "source": [
    "def get_sorted_fns(study_path):\n",
    "    files = []\n",
    "    fns = get_dicom_files(study_path)   \n",
    "    fn_position_dict = {}\n",
    "    for fn in fns:\n",
    "        ds = pydicom.dcmread(fn, stop_before_pixels = True)\n",
    "        fn_position_dict[fn.stem] = ds.ImagePositionPatient[2]\n",
    "        files.append(ds)\n",
    "    \n",
    "    #sort reverse to get head first, the z-axis is increasing towards the cranial (as opposed to caudal) end of the patient for the neck\n",
    "    fn_position_dict = {key: val for key, val in sorted(fn_position_dict.items(), key = lambda ele: ele[1],reverse=True)}\n",
    "    sorted_fns = list(fn_position_dict.keys())\n",
    "     #returns list of image names sorted by patient position   \n",
    "    return sorted_fns\n",
    "\n",
    "def process_seg(seg_ids):\n",
    "    dict_for_df = []\n",
    "\n",
    "    for study_id in tqdm(seg_ids):\n",
    "        min, max, shape = get_slice_boundaries_from_sag(study_id)\n",
    "        fns = get_sorted_fns(train_folder/study_id)\n",
    "        fns = [train_folder/study_id/(o + '.dcm') for o in fns]\n",
    "        \n",
    "        #ignore first and last slice because of issues with '1.2.826.0.1.3680043.1363'\n",
    "        for i in range (1,shape[2]-1):\n",
    "            label = 'cspine'\n",
    "            if i < min:\n",
    "                label = 'head'\n",
    "            elif i > max:\n",
    "                label = 'tspine'\n",
    "            fn = Path(fns[i])\n",
    "            row = {'study_id':study_id, 'slice':fn.stem,'label':label }\n",
    "            dict_for_df.append(row)\n",
    "\n",
    "    df = pd.DataFrame(dict_for_df)\n",
    "    return df\n",
    "\n",
    "\n",
    "if Path('../input/cspine-data/spine_labels.csv').exists():\n",
    "    df = pd.read_csv('../input/cspine-data/spine_labels.csv')\n",
    "else:\n",
    "    df = process_seg(seg_ids)\n",
    "    df.to_csv('spine_labels.csv', index=False)\n",
    "df.head()"
   ]
  },
  {
   "cell_type": "code",
   "execution_count": 6,
   "id": "7e011d88",
   "metadata": {
    "execution": {
     "iopub.execute_input": "2022-09-16T00:49:54.090399Z",
     "iopub.status.busy": "2022-09-16T00:49:54.089554Z",
     "iopub.status.idle": "2022-09-16T00:49:54.103500Z",
     "shell.execute_reply": "2022-09-16T00:49:54.102319Z"
    },
    "papermill": {
     "duration": 0.027905,
     "end_time": "2022-09-16T00:49:54.105579",
     "exception": false,
     "start_time": "2022-09-16T00:49:54.077674",
     "status": "completed"
    },
    "tags": []
   },
   "outputs": [
    {
     "data": {
      "text/plain": [
       "cspine    19077\n",
       "tspine     5847\n",
       "head       4734\n",
       "Name: label, dtype: int64"
      ]
     },
     "execution_count": 6,
     "metadata": {},
     "output_type": "execute_result"
    }
   ],
   "source": [
    "df.label.value_counts()"
   ]
  },
  {
   "cell_type": "code",
   "execution_count": 7,
   "id": "59931900",
   "metadata": {
    "execution": {
     "iopub.execute_input": "2022-09-16T00:49:54.129266Z",
     "iopub.status.busy": "2022-09-16T00:49:54.128972Z",
     "iopub.status.idle": "2022-09-16T00:49:54.133466Z",
     "shell.execute_reply": "2022-09-16T00:49:54.132439Z"
    },
    "papermill": {
     "duration": 0.018335,
     "end_time": "2022-09-16T00:49:54.135437",
     "exception": false,
     "start_time": "2022-09-16T00:49:54.117102",
     "status": "completed"
    },
    "tags": []
   },
   "outputs": [],
   "source": [
    "def get_fn(study_id, slice):\n",
    "    return train_folder/study_id/f'{slice}.dcm'"
   ]
  },
  {
   "cell_type": "markdown",
   "id": "f9bad515",
   "metadata": {
    "papermill": {
     "duration": 0.010603,
     "end_time": "2022-09-16T00:49:54.156842",
     "exception": false,
     "start_time": "2022-09-16T00:49:54.146239",
     "status": "completed"
    },
    "tags": []
   },
   "source": [
    "## Modified Fastai PILDicom class to get around mode errors"
   ]
  },
  {
   "cell_type": "code",
   "execution_count": 8,
   "id": "db2ee93f",
   "metadata": {
    "execution": {
     "iopub.execute_input": "2022-09-16T00:49:54.180157Z",
     "iopub.status.busy": "2022-09-16T00:49:54.179837Z",
     "iopub.status.idle": "2022-09-16T00:49:54.192246Z",
     "shell.execute_reply": "2022-09-16T00:49:54.191073Z"
    },
    "papermill": {
     "duration": 0.026595,
     "end_time": "2022-09-16T00:49:54.194283",
     "exception": false,
     "start_time": "2022-09-16T00:49:54.167688",
     "status": "completed"
    },
    "tags": []
   },
   "outputs": [],
   "source": [
    "#PILDicom2 adapted from https://forums.fast.ai/t/fastai2-problems-with-medical-images-dicom/76138/4 by @deep_derping\n",
    "class PILDicom2(PILBase):\n",
    "    \"same as PILDicom but changed pixel type  as np.int16 cannot be handled by PIL\"\n",
    "    _open_args,_tensor_cls,_show_args = {},TensorDicom,TensorDicom._show_args\n",
    "    @classmethod\n",
    "    def create(cls, fn:(Path,str,bytes), mode=None)->None:\n",
    "        \"Open a `DICOM file` from path `fn` or bytes `fn` and load it as a `PIL Image`\"\n",
    "        if isinstance(fn,bytes): im = Image.fromarray(dcmread_to8bit(pydicom.filebase.DicomBytesIO(fn)))\n",
    "        if isinstance(fn,(Path,str)): im = Image.fromarray(dcmread_to8bit(fn))\n",
    "        im.load()\n",
    "        im = im._new(im.im)\n",
    "        return cls(im.convert(mode) if mode else im)\n",
    "    \n",
    "\n",
    "def get_window_from_dicom(dcm, default = (2000, 500)):\n",
    "    \"\"\"\n",
    "    Returns window width and window center values or first example if MultiValue\n",
    "    Strips comma from value if present (seen in a different dataset)\n",
    "    If no window width/level is provided or available, returns default.\n",
    "    \"\"\"\n",
    "    width, level = default\n",
    "\n",
    "    if \"WindowWidth\" in dcm:\n",
    "        width = dcm.WindowWidth\n",
    "        if isinstance(width, pydicom.multival.MultiValue):\n",
    "            width = float(width[0])\n",
    "        else:\n",
    "            width = float(str(width).replace(',', ''))\n",
    "\n",
    "    if \"WindowCenter\" in dcm:\n",
    "        level = dcm.WindowCenter\n",
    "        if isinstance(level, pydicom.multival.MultiValue):\n",
    "            level = float(level[0])\n",
    "        else:\n",
    "            level = float(str(level).replace(',', ''))\n",
    "            \n",
    "    return width, level\n",
    "\n",
    "# apply slope/intercept and W/L\n",
    "def dcmread_to8bit(fn):\n",
    "    dcm = fn.dcmread()\n",
    "    arr=dcm.pixel_array\n",
    "    \n",
    "    #slope, intercept\n",
    "    slope = 1\n",
    "    intercept = 0\n",
    "    if \"RescaleIntercept\" in dcm and \"RescaleSlope\" in dcm:\n",
    "        intercept = int(dcm.RescaleIntercept)\n",
    "        slope = int(dcm.RescaleSlope)\n",
    "        \n",
    "    arr = intercept + arr * slope\n",
    "    \n",
    "    #window\n",
    "    width,level = get_window_from_dicom(dcm)\n",
    "    if width is not None and level is not None:\n",
    "        arr = np.clip(arr, level - width // 2, level + width // 2)\n",
    "        \n",
    "    #scale\n",
    "    arr = (arr - np.min(arr)) / np.max(arr)\n",
    "    arr = (arr * 255).astype(\"uint8\")\n",
    "    \n",
    "    if \"PhotometricInterpretation\" in dcm and dcm.PhotometricInterpretation == \"MONOCHROME1\":\n",
    "        arr = 255 - arr\n",
    "        \n",
    "    return arr"
   ]
  },
  {
   "cell_type": "markdown",
   "id": "803820df",
   "metadata": {
    "papermill": {
     "duration": 0.010624,
     "end_time": "2022-09-16T00:49:54.215750",
     "exception": false,
     "start_time": "2022-09-16T00:49:54.205126",
     "status": "completed"
    },
    "tags": []
   },
   "source": [
    "## Fastai datablock"
   ]
  },
  {
   "cell_type": "code",
   "execution_count": 9,
   "id": "09fd191e",
   "metadata": {
    "execution": {
     "iopub.execute_input": "2022-09-16T00:49:54.239900Z",
     "iopub.status.busy": "2022-09-16T00:49:54.239114Z",
     "iopub.status.idle": "2022-09-16T00:50:01.885011Z",
     "shell.execute_reply": "2022-09-16T00:50:01.881445Z"
    },
    "papermill": {
     "duration": 7.661014,
     "end_time": "2022-09-16T00:50:01.887865",
     "exception": false,
     "start_time": "2022-09-16T00:49:54.226851",
     "status": "completed"
    },
    "tags": []
   },
   "outputs": [
    {
     "data": {
      "text/plain": [
       "['cspine', 'head', 'tspine']"
      ]
     },
     "execution_count": 9,
     "metadata": {},
     "output_type": "execute_result"
    }
   ],
   "source": [
    "datablock = DataBlock(blocks=(ImageBlock(cls=PILDicom2), CategoryBlock),\n",
    "                   get_x=lambda x:train_folder/x[0]/f'{x[1]}.dcm',\n",
    "                   get_y=lambda x:x[-1],\n",
    "                   item_tfms=[Resize(224)],\n",
    "                   batch_tfms=[*aug_transforms(size=224),Normalize.from_stats(*imagenet_stats)])\n",
    "\n",
    "dls = datablock.dataloaders(df.values, num_workers=4)\n",
    "dls.vocab"
   ]
  },
  {
   "cell_type": "markdown",
   "id": "6e81099e",
   "metadata": {
    "papermill": {
     "duration": 0.021963,
     "end_time": "2022-09-16T00:50:01.934596",
     "exception": false,
     "start_time": "2022-09-16T00:50:01.912633",
     "status": "completed"
    },
    "tags": []
   },
   "source": [
    "## Fastai vision_learner"
   ]
  },
  {
   "cell_type": "code",
   "execution_count": 10,
   "id": "95342a5b",
   "metadata": {
    "execution": {
     "iopub.execute_input": "2022-09-16T00:50:01.970015Z",
     "iopub.status.busy": "2022-09-16T00:50:01.969471Z",
     "iopub.status.idle": "2022-09-16T01:59:34.139696Z",
     "shell.execute_reply": "2022-09-16T01:59:34.138427Z"
    },
    "papermill": {
     "duration": 4172.191288,
     "end_time": "2022-09-16T01:59:34.142873",
     "exception": false,
     "start_time": "2022-09-16T00:50:01.951585",
     "status": "completed"
    },
    "tags": []
   },
   "outputs": [
    {
     "name": "stderr",
     "output_type": "stream",
     "text": [
      "Downloading: \"https://download.pytorch.org/models/resnet34-b627a593.pth\" to /root/.cache/torch/hub/checkpoints/resnet34-b627a593.pth\n"
     ]
    },
    {
     "data": {
      "application/vnd.jupyter.widget-view+json": {
       "model_id": "1f8b91c5ea4c409c8c435db3c734e8c1",
       "version_major": 2,
       "version_minor": 0
      },
      "text/plain": [
       "  0%|          | 0.00/83.3M [00:00<?, ?B/s]"
      ]
     },
     "metadata": {},
     "output_type": "display_data"
    },
    {
     "data": {
      "text/html": [
       "\n",
       "<style>\n",
       "    /* Turns off some styling */\n",
       "    progress {\n",
       "        /* gets rid of default border in Firefox and Opera. */\n",
       "        border: none;\n",
       "        /* Needs to be in here for Safari polyfill so background images work as expected. */\n",
       "        background-size: auto;\n",
       "    }\n",
       "    progress:not([value]), progress:not([value])::-webkit-progress-bar {\n",
       "        background: repeating-linear-gradient(45deg, #7e7e7e, #7e7e7e 10px, #5c5c5c 10px, #5c5c5c 20px);\n",
       "    }\n",
       "    .progress-bar-interrupted, .progress-bar-interrupted::-webkit-progress-bar {\n",
       "        background: #F44336;\n",
       "    }\n",
       "</style>\n"
      ],
      "text/plain": [
       "<IPython.core.display.HTML object>"
      ]
     },
     "metadata": {},
     "output_type": "display_data"
    },
    {
     "data": {
      "text/html": [
       "<table border=\"1\" class=\"dataframe\">\n",
       "  <thead>\n",
       "    <tr style=\"text-align: left;\">\n",
       "      <th>epoch</th>\n",
       "      <th>train_loss</th>\n",
       "      <th>valid_loss</th>\n",
       "      <th>accuracy</th>\n",
       "      <th>time</th>\n",
       "    </tr>\n",
       "  </thead>\n",
       "  <tbody>\n",
       "    <tr>\n",
       "      <td>0</td>\n",
       "      <td>0.256701</td>\n",
       "      <td>0.119163</td>\n",
       "      <td>0.954982</td>\n",
       "      <td>06:33</td>\n",
       "    </tr>\n",
       "  </tbody>\n",
       "</table>"
      ],
      "text/plain": [
       "<IPython.core.display.HTML object>"
      ]
     },
     "metadata": {},
     "output_type": "display_data"
    },
    {
     "data": {
      "text/html": [
       "\n",
       "<style>\n",
       "    /* Turns off some styling */\n",
       "    progress {\n",
       "        /* gets rid of default border in Firefox and Opera. */\n",
       "        border: none;\n",
       "        /* Needs to be in here for Safari polyfill so background images work as expected. */\n",
       "        background-size: auto;\n",
       "    }\n",
       "    progress:not([value]), progress:not([value])::-webkit-progress-bar {\n",
       "        background: repeating-linear-gradient(45deg, #7e7e7e, #7e7e7e 10px, #5c5c5c 10px, #5c5c5c 20px);\n",
       "    }\n",
       "    .progress-bar-interrupted, .progress-bar-interrupted::-webkit-progress-bar {\n",
       "        background: #F44336;\n",
       "    }\n",
       "</style>\n"
      ],
      "text/plain": [
       "<IPython.core.display.HTML object>"
      ]
     },
     "metadata": {},
     "output_type": "display_data"
    },
    {
     "data": {
      "text/html": [
       "<table border=\"1\" class=\"dataframe\">\n",
       "  <thead>\n",
       "    <tr style=\"text-align: left;\">\n",
       "      <th>epoch</th>\n",
       "      <th>train_loss</th>\n",
       "      <th>valid_loss</th>\n",
       "      <th>accuracy</th>\n",
       "      <th>time</th>\n",
       "    </tr>\n",
       "  </thead>\n",
       "  <tbody>\n",
       "    <tr>\n",
       "      <td>0</td>\n",
       "      <td>0.080449</td>\n",
       "      <td>0.042969</td>\n",
       "      <td>0.983308</td>\n",
       "      <td>06:28</td>\n",
       "    </tr>\n",
       "    <tr>\n",
       "      <td>1</td>\n",
       "      <td>0.085634</td>\n",
       "      <td>0.078100</td>\n",
       "      <td>0.977070</td>\n",
       "      <td>06:22</td>\n",
       "    </tr>\n",
       "    <tr>\n",
       "      <td>2</td>\n",
       "      <td>0.074189</td>\n",
       "      <td>0.048942</td>\n",
       "      <td>0.983645</td>\n",
       "      <td>06:19</td>\n",
       "    </tr>\n",
       "    <tr>\n",
       "      <td>3</td>\n",
       "      <td>0.056779</td>\n",
       "      <td>0.039851</td>\n",
       "      <td>0.985331</td>\n",
       "      <td>06:16</td>\n",
       "    </tr>\n",
       "    <tr>\n",
       "      <td>4</td>\n",
       "      <td>0.033729</td>\n",
       "      <td>0.044923</td>\n",
       "      <td>0.987692</td>\n",
       "      <td>06:12</td>\n",
       "    </tr>\n",
       "    <tr>\n",
       "      <td>5</td>\n",
       "      <td>0.029282</td>\n",
       "      <td>0.025422</td>\n",
       "      <td>0.992244</td>\n",
       "      <td>06:19</td>\n",
       "    </tr>\n",
       "    <tr>\n",
       "      <td>6</td>\n",
       "      <td>0.021840</td>\n",
       "      <td>0.032057</td>\n",
       "      <td>0.989041</td>\n",
       "      <td>06:17</td>\n",
       "    </tr>\n",
       "    <tr>\n",
       "      <td>7</td>\n",
       "      <td>0.011652</td>\n",
       "      <td>0.021968</td>\n",
       "      <td>0.993930</td>\n",
       "      <td>06:11</td>\n",
       "    </tr>\n",
       "    <tr>\n",
       "      <td>8</td>\n",
       "      <td>0.008258</td>\n",
       "      <td>0.020990</td>\n",
       "      <td>0.994099</td>\n",
       "      <td>06:11</td>\n",
       "    </tr>\n",
       "    <tr>\n",
       "      <td>9</td>\n",
       "      <td>0.006907</td>\n",
       "      <td>0.021738</td>\n",
       "      <td>0.994099</td>\n",
       "      <td>06:15</td>\n",
       "    </tr>\n",
       "  </tbody>\n",
       "</table>"
      ],
      "text/plain": [
       "<IPython.core.display.HTML object>"
      ]
     },
     "metadata": {},
     "output_type": "display_data"
    }
   ],
   "source": [
    "learn = vision_learner(dls, resnet34, metrics=accuracy).to_fp16()\n",
    "learn.fine_tune(10)"
   ]
  },
  {
   "cell_type": "markdown",
   "id": "8a655795",
   "metadata": {
    "papermill": {
     "duration": 0.012141,
     "end_time": "2022-09-16T01:59:34.167884",
     "exception": false,
     "start_time": "2022-09-16T01:59:34.155743",
     "status": "completed"
    },
    "tags": []
   },
   "source": [
    "## Save model"
   ]
  },
  {
   "cell_type": "code",
   "execution_count": 11,
   "id": "440be189",
   "metadata": {
    "execution": {
     "iopub.execute_input": "2022-09-16T01:59:34.194665Z",
     "iopub.status.busy": "2022-09-16T01:59:34.194276Z",
     "iopub.status.idle": "2022-09-16T01:59:34.665195Z",
     "shell.execute_reply": "2022-09-16T01:59:34.664180Z"
    },
    "papermill": {
     "duration": 0.48698,
     "end_time": "2022-09-16T01:59:34.667551",
     "exception": false,
     "start_time": "2022-09-16T01:59:34.180571",
     "status": "completed"
    },
    "tags": []
   },
   "outputs": [
    {
     "data": {
      "text/plain": [
       "Path('models/spine_label.h5.pth')"
      ]
     },
     "execution_count": 11,
     "metadata": {},
     "output_type": "execute_result"
    }
   ],
   "source": [
    "learn.save('spine_label.h5')"
   ]
  },
  {
   "cell_type": "code",
   "execution_count": 12,
   "id": "2b3a2661",
   "metadata": {
    "execution": {
     "iopub.execute_input": "2022-09-16T01:59:34.692959Z",
     "iopub.status.busy": "2022-09-16T01:59:34.692614Z",
     "iopub.status.idle": "2022-09-16T01:59:34.696914Z",
     "shell.execute_reply": "2022-09-16T01:59:34.695914Z"
    },
    "papermill": {
     "duration": 0.019307,
     "end_time": "2022-09-16T01:59:34.699182",
     "exception": false,
     "start_time": "2022-09-16T01:59:34.679875",
     "status": "completed"
    },
    "tags": []
   },
   "outputs": [],
   "source": [
    "# !mkdir  'models'\n",
    "# !cp  '../input/cspine-data/spine_label.h5.pth' 'models'"
   ]
  },
  {
   "cell_type": "code",
   "execution_count": 13,
   "id": "b82d46b8",
   "metadata": {
    "execution": {
     "iopub.execute_input": "2022-09-16T01:59:34.723982Z",
     "iopub.status.busy": "2022-09-16T01:59:34.723678Z",
     "iopub.status.idle": "2022-09-16T01:59:34.727699Z",
     "shell.execute_reply": "2022-09-16T01:59:34.726750Z"
    },
    "papermill": {
     "duration": 0.01869,
     "end_time": "2022-09-16T01:59:34.729738",
     "exception": false,
     "start_time": "2022-09-16T01:59:34.711048",
     "status": "completed"
    },
    "tags": []
   },
   "outputs": [],
   "source": [
    "# learn.load('spine_label.h5')"
   ]
  },
  {
   "cell_type": "code",
   "execution_count": 14,
   "id": "1b987352",
   "metadata": {
    "execution": {
     "iopub.execute_input": "2022-09-16T01:59:34.755111Z",
     "iopub.status.busy": "2022-09-16T01:59:34.754330Z",
     "iopub.status.idle": "2022-09-16T01:59:34.758700Z",
     "shell.execute_reply": "2022-09-16T01:59:34.757841Z"
    },
    "papermill": {
     "duration": 0.01879,
     "end_time": "2022-09-16T01:59:34.760619",
     "exception": false,
     "start_time": "2022-09-16T01:59:34.741829",
     "status": "completed"
    },
    "tags": []
   },
   "outputs": [],
   "source": [
    "#learn.show_results(max_n=16)"
   ]
  },
  {
   "cell_type": "code",
   "execution_count": 15,
   "id": "3daf5e7f",
   "metadata": {
    "execution": {
     "iopub.execute_input": "2022-09-16T01:59:34.787960Z",
     "iopub.status.busy": "2022-09-16T01:59:34.787677Z",
     "iopub.status.idle": "2022-09-16T01:59:34.791530Z",
     "shell.execute_reply": "2022-09-16T01:59:34.790597Z"
    },
    "papermill": {
     "duration": 0.02089,
     "end_time": "2022-09-16T01:59:34.793440",
     "exception": false,
     "start_time": "2022-09-16T01:59:34.772550",
     "status": "completed"
    },
    "tags": []
   },
   "outputs": [],
   "source": [
    "# interp = Interpretation.from_learner(learn)\n",
    "# interp.plot_top_losses(2)"
   ]
  },
  {
   "cell_type": "markdown",
   "id": "2a09e935",
   "metadata": {
    "papermill": {
     "duration": 0.011691,
     "end_time": "2022-09-16T01:59:34.816561",
     "exception": false,
     "start_time": "2022-09-16T01:59:34.804870",
     "status": "completed"
    },
    "tags": []
   },
   "source": [
    "## Create dataframe of the remaining training images for prediction"
   ]
  },
  {
   "cell_type": "code",
   "execution_count": 16,
   "id": "741907e3",
   "metadata": {
    "execution": {
     "iopub.execute_input": "2022-09-16T01:59:34.841937Z",
     "iopub.status.busy": "2022-09-16T01:59:34.841654Z",
     "iopub.status.idle": "2022-09-16T01:59:47.740978Z",
     "shell.execute_reply": "2022-09-16T01:59:47.739896Z"
    },
    "papermill": {
     "duration": 12.914209,
     "end_time": "2022-09-16T01:59:47.743270",
     "exception": false,
     "start_time": "2022-09-16T01:59:34.829061",
     "status": "completed"
    },
    "tags": []
   },
   "outputs": [
    {
     "data": {
      "text/html": [
       "<div>\n",
       "<style scoped>\n",
       "    .dataframe tbody tr th:only-of-type {\n",
       "        vertical-align: middle;\n",
       "    }\n",
       "\n",
       "    .dataframe tbody tr th {\n",
       "        vertical-align: top;\n",
       "    }\n",
       "\n",
       "    .dataframe thead th {\n",
       "        text-align: right;\n",
       "    }\n",
       "</style>\n",
       "<table border=\"1\" class=\"dataframe\">\n",
       "  <thead>\n",
       "    <tr style=\"text-align: right;\">\n",
       "      <th></th>\n",
       "      <th>study_id</th>\n",
       "      <th>slice</th>\n",
       "    </tr>\n",
       "  </thead>\n",
       "  <tbody>\n",
       "    <tr>\n",
       "      <th>39331</th>\n",
       "      <td>1.2.826.0.1.3680043.10001</td>\n",
       "      <td>1</td>\n",
       "    </tr>\n",
       "    <tr>\n",
       "      <th>39334</th>\n",
       "      <td>1.2.826.0.1.3680043.10001</td>\n",
       "      <td>2</td>\n",
       "    </tr>\n",
       "    <tr>\n",
       "      <th>39457</th>\n",
       "      <td>1.2.826.0.1.3680043.10001</td>\n",
       "      <td>3</td>\n",
       "    </tr>\n",
       "    <tr>\n",
       "      <th>39389</th>\n",
       "      <td>1.2.826.0.1.3680043.10001</td>\n",
       "      <td>4</td>\n",
       "    </tr>\n",
       "    <tr>\n",
       "      <th>39386</th>\n",
       "      <td>1.2.826.0.1.3680043.10001</td>\n",
       "      <td>5</td>\n",
       "    </tr>\n",
       "  </tbody>\n",
       "</table>\n",
       "</div>"
      ],
      "text/plain": [
       "                        study_id  slice\n",
       "39331  1.2.826.0.1.3680043.10001      1\n",
       "39334  1.2.826.0.1.3680043.10001      2\n",
       "39457  1.2.826.0.1.3680043.10001      3\n",
       "39389  1.2.826.0.1.3680043.10001      4\n",
       "39386  1.2.826.0.1.3680043.10001      5"
      ]
     },
     "execution_count": 16,
     "metadata": {},
     "output_type": "execute_result"
    }
   ],
   "source": [
    "#get all image names\n",
    "csv = Path('../input/cspine-data/dcm_filenames.csv')\n",
    "if csv.exists():\n",
    "    fndf = pd.read_csv('../input/cspine-data/dcm_filenames.csv')\n",
    "else:\n",
    "    fn_glob = train_folder.glob('**/*.dcm')\n",
    "    fns = [fn for fn in fn_glob]\n",
    "    fndf = pd.DataFrame({'fn':fns})\n",
    "    fndf.to_csv('dcm_filenames.csv', index=False)\n",
    "\n",
    "fndf['study_id'] = fndf.fn.apply(lambda x: Path(x).parent.name)\n",
    "fndf['slice'] = fndf.fn.apply(lambda x: Path(x).stem)\n",
    "fndf = fndf.drop('fn', axis=1)\n",
    "fndf.slice = fndf.slice.astype(int)\n",
    "fndf = fndf.sort_values(by = ['study_id', 'slice'])\n",
    "fndf.head()"
   ]
  },
  {
   "cell_type": "markdown",
   "id": "5b37518f",
   "metadata": {
    "papermill": {
     "duration": 0.011967,
     "end_time": "2022-09-16T01:59:47.767574",
     "exception": false,
     "start_time": "2022-09-16T01:59:47.755607",
     "status": "completed"
    },
    "tags": []
   },
   "source": [
    "## List of images in study at intervals of 50/count. Take first and last 12.\n",
    "\n",
    "This assumes that the central 50% of the volume includes CSpine and make predictions on the front and back 25%."
   ]
  },
  {
   "cell_type": "code",
   "execution_count": 17,
   "id": "7727d14f",
   "metadata": {
    "execution": {
     "iopub.execute_input": "2022-09-16T01:59:47.792564Z",
     "iopub.status.busy": "2022-09-16T01:59:47.792240Z",
     "iopub.status.idle": "2022-09-16T01:59:53.050887Z",
     "shell.execute_reply": "2022-09-16T01:59:53.049884Z"
    },
    "papermill": {
     "duration": 5.274243,
     "end_time": "2022-09-16T01:59:53.053563",
     "exception": false,
     "start_time": "2022-09-16T01:59:47.779320",
     "status": "completed"
    },
    "tags": []
   },
   "outputs": [
    {
     "data": {
      "text/html": [
       "<div>\n",
       "<style scoped>\n",
       "    .dataframe tbody tr th:only-of-type {\n",
       "        vertical-align: middle;\n",
       "    }\n",
       "\n",
       "    .dataframe tbody tr th {\n",
       "        vertical-align: top;\n",
       "    }\n",
       "\n",
       "    .dataframe thead th {\n",
       "        text-align: right;\n",
       "    }\n",
       "</style>\n",
       "<table border=\"1\" class=\"dataframe\">\n",
       "  <thead>\n",
       "    <tr style=\"text-align: right;\">\n",
       "      <th></th>\n",
       "      <th>study_id</th>\n",
       "      <th>slice</th>\n",
       "      <th>should_predict</th>\n",
       "    </tr>\n",
       "  </thead>\n",
       "  <tbody>\n",
       "    <tr>\n",
       "      <th>39331</th>\n",
       "      <td>1.2.826.0.1.3680043.10001</td>\n",
       "      <td>1</td>\n",
       "      <td>False</td>\n",
       "    </tr>\n",
       "    <tr>\n",
       "      <th>39334</th>\n",
       "      <td>1.2.826.0.1.3680043.10001</td>\n",
       "      <td>2</td>\n",
       "      <td>True</td>\n",
       "    </tr>\n",
       "    <tr>\n",
       "      <th>39457</th>\n",
       "      <td>1.2.826.0.1.3680043.10001</td>\n",
       "      <td>3</td>\n",
       "      <td>False</td>\n",
       "    </tr>\n",
       "    <tr>\n",
       "      <th>39389</th>\n",
       "      <td>1.2.826.0.1.3680043.10001</td>\n",
       "      <td>4</td>\n",
       "      <td>False</td>\n",
       "    </tr>\n",
       "    <tr>\n",
       "      <th>39386</th>\n",
       "      <td>1.2.826.0.1.3680043.10001</td>\n",
       "      <td>5</td>\n",
       "      <td>False</td>\n",
       "    </tr>\n",
       "  </tbody>\n",
       "</table>\n",
       "</div>"
      ],
      "text/plain": [
       "                        study_id  slice  should_predict\n",
       "39331  1.2.826.0.1.3680043.10001      1           False\n",
       "39334  1.2.826.0.1.3680043.10001      2            True\n",
       "39457  1.2.826.0.1.3680043.10001      3           False\n",
       "39389  1.2.826.0.1.3680043.10001      4           False\n",
       "39386  1.2.826.0.1.3680043.10001      5           False"
      ]
     },
     "execution_count": 17,
     "metadata": {},
     "output_type": "execute_result"
    }
   ],
   "source": [
    "def get_indices(count):\n",
    "    step = max(int(count/50), 1)\n",
    "    arr = np.arange(1,count,step)\n",
    "    retarr = arr[:12].copy()\n",
    "    retarr = np.append(retarr, arr[-12:])\n",
    "    return retarr\n",
    "\n",
    "def get_indices_for_pred(group):\n",
    "    count = group.shape[0]\n",
    "    indices = get_indices(count)\n",
    "    ret = [o in indices for o in range(count)]\n",
    "    return ret\n",
    "\n",
    "fndf['should_predict'] = fndf.groupby('study_id').transform(get_indices_for_pred)\n",
    "fndf.head()"
   ]
  },
  {
   "cell_type": "markdown",
   "id": "d555a162",
   "metadata": {
    "papermill": {
     "duration": 0.013378,
     "end_time": "2022-09-16T01:59:53.080096",
     "exception": false,
     "start_time": "2022-09-16T01:59:53.066718",
     "status": "completed"
    },
    "tags": []
   },
   "source": [
    "## Only predict on images not in segmentation group"
   ]
  },
  {
   "cell_type": "code",
   "execution_count": 18,
   "id": "ceadc4dc",
   "metadata": {
    "execution": {
     "iopub.execute_input": "2022-09-16T01:59:53.105107Z",
     "iopub.status.busy": "2022-09-16T01:59:53.104768Z",
     "iopub.status.idle": "2022-09-16T01:59:53.149527Z",
     "shell.execute_reply": "2022-09-16T01:59:53.148322Z"
    },
    "papermill": {
     "duration": 0.060187,
     "end_time": "2022-09-16T01:59:53.152097",
     "exception": false,
     "start_time": "2022-09-16T01:59:53.091910",
     "status": "completed"
    },
    "tags": []
   },
   "outputs": [
    {
     "data": {
      "text/html": [
       "<div>\n",
       "<style scoped>\n",
       "    .dataframe tbody tr th:only-of-type {\n",
       "        vertical-align: middle;\n",
       "    }\n",
       "\n",
       "    .dataframe tbody tr th {\n",
       "        vertical-align: top;\n",
       "    }\n",
       "\n",
       "    .dataframe thead th {\n",
       "        text-align: right;\n",
       "    }\n",
       "</style>\n",
       "<table border=\"1\" class=\"dataframe\">\n",
       "  <thead>\n",
       "    <tr style=\"text-align: right;\">\n",
       "      <th></th>\n",
       "      <th>study_id</th>\n",
       "      <th>slice</th>\n",
       "    </tr>\n",
       "  </thead>\n",
       "  <tbody>\n",
       "    <tr>\n",
       "      <th>39334</th>\n",
       "      <td>1.2.826.0.1.3680043.10001</td>\n",
       "      <td>2</td>\n",
       "    </tr>\n",
       "    <tr>\n",
       "      <th>39357</th>\n",
       "      <td>1.2.826.0.1.3680043.10001</td>\n",
       "      <td>7</td>\n",
       "    </tr>\n",
       "    <tr>\n",
       "      <th>39212</th>\n",
       "      <td>1.2.826.0.1.3680043.10001</td>\n",
       "      <td>12</td>\n",
       "    </tr>\n",
       "    <tr>\n",
       "      <th>39327</th>\n",
       "      <td>1.2.826.0.1.3680043.10001</td>\n",
       "      <td>17</td>\n",
       "    </tr>\n",
       "    <tr>\n",
       "      <th>39228</th>\n",
       "      <td>1.2.826.0.1.3680043.10001</td>\n",
       "      <td>22</td>\n",
       "    </tr>\n",
       "  </tbody>\n",
       "</table>\n",
       "</div>"
      ],
      "text/plain": [
       "                        study_id  slice\n",
       "39334  1.2.826.0.1.3680043.10001      2\n",
       "39357  1.2.826.0.1.3680043.10001      7\n",
       "39212  1.2.826.0.1.3680043.10001     12\n",
       "39327  1.2.826.0.1.3680043.10001     17\n",
       "39228  1.2.826.0.1.3680043.10001     22"
      ]
     },
     "execution_count": 18,
     "metadata": {},
     "output_type": "execute_result"
    }
   ],
   "source": [
    "train_ids = train_df.StudyInstanceUID.unique()\n",
    "study_ids = list(set(train_ids) - set(seg_ids))\n",
    "\n",
    "tdf = fndf[(fndf.should_predict == True) & (fndf.study_id.isin(study_ids))]\n",
    "tdf = tdf[['study_id','slice']]\n",
    "tdf.head()"
   ]
  },
  {
   "cell_type": "code",
   "execution_count": 19,
   "id": "cc855d26",
   "metadata": {
    "execution": {
     "iopub.execute_input": "2022-09-16T01:59:53.177633Z",
     "iopub.status.busy": "2022-09-16T01:59:53.177337Z",
     "iopub.status.idle": "2022-09-16T01:59:53.239339Z",
     "shell.execute_reply": "2022-09-16T01:59:53.238420Z"
    },
    "papermill": {
     "duration": 0.077208,
     "end_time": "2022-09-16T01:59:53.241606",
     "exception": false,
     "start_time": "2022-09-16T01:59:53.164398",
     "status": "completed"
    },
    "tags": []
   },
   "outputs": [],
   "source": [
    "tdf.to_csv('nonseg_image_paths.csv', index = False)"
   ]
  },
  {
   "cell_type": "markdown",
   "id": "24889403",
   "metadata": {
    "papermill": {
     "duration": 0.011814,
     "end_time": "2022-09-16T01:59:53.265863",
     "exception": false,
     "start_time": "2022-09-16T01:59:53.254049",
     "status": "completed"
    },
    "tags": []
   },
   "source": [
    "## Predict"
   ]
  },
  {
   "cell_type": "code",
   "execution_count": 20,
   "id": "183d8b2c",
   "metadata": {
    "execution": {
     "iopub.execute_input": "2022-09-16T01:59:53.291032Z",
     "iopub.status.busy": "2022-09-16T01:59:53.290686Z",
     "iopub.status.idle": "2022-09-16T02:21:28.994114Z",
     "shell.execute_reply": "2022-09-16T02:21:28.992287Z"
    },
    "papermill": {
     "duration": 1295.72128,
     "end_time": "2022-09-16T02:21:28.999058",
     "exception": false,
     "start_time": "2022-09-16T01:59:53.277778",
     "status": "completed"
    },
    "tags": []
   },
   "outputs": [
    {
     "data": {
      "text/html": [
       "\n",
       "<style>\n",
       "    /* Turns off some styling */\n",
       "    progress {\n",
       "        /* gets rid of default border in Firefox and Opera. */\n",
       "        border: none;\n",
       "        /* Needs to be in here for Safari polyfill so background images work as expected. */\n",
       "        background-size: auto;\n",
       "    }\n",
       "    progress:not([value]), progress:not([value])::-webkit-progress-bar {\n",
       "        background: repeating-linear-gradient(45deg, #7e7e7e, #7e7e7e 10px, #5c5c5c 10px, #5c5c5c 20px);\n",
       "    }\n",
       "    .progress-bar-interrupted, .progress-bar-interrupted::-webkit-progress-bar {\n",
       "        background: #F44336;\n",
       "    }\n",
       "</style>\n"
      ],
      "text/plain": [
       "<IPython.core.display.HTML object>"
      ]
     },
     "metadata": {},
     "output_type": "display_data"
    },
    {
     "data": {
      "text/html": [],
      "text/plain": [
       "<IPython.core.display.HTML object>"
      ]
     },
     "metadata": {},
     "output_type": "display_data"
    }
   ],
   "source": [
    "test_dl = learn.dls.test_dl(tdf.values, num_workers=1)\n",
    "preds,_ = learn.get_preds( dl = test_dl)"
   ]
  },
  {
   "cell_type": "markdown",
   "id": "4c86b57d",
   "metadata": {
    "papermill": {
     "duration": 0.01211,
     "end_time": "2022-09-16T02:21:29.024827",
     "exception": false,
     "start_time": "2022-09-16T02:21:29.012717",
     "status": "completed"
    },
    "tags": []
   },
   "source": [
    "## Convert argmax of predictions to labels"
   ]
  },
  {
   "cell_type": "code",
   "execution_count": 21,
   "id": "848099a7",
   "metadata": {
    "execution": {
     "iopub.execute_input": "2022-09-16T02:21:29.052278Z",
     "iopub.status.busy": "2022-09-16T02:21:29.051871Z",
     "iopub.status.idle": "2022-09-16T02:21:29.342054Z",
     "shell.execute_reply": "2022-09-16T02:21:29.340961Z"
    },
    "papermill": {
     "duration": 0.307015,
     "end_time": "2022-09-16T02:21:29.344203",
     "exception": false,
     "start_time": "2022-09-16T02:21:29.037188",
     "status": "completed"
    },
    "tags": []
   },
   "outputs": [
    {
     "data": {
      "text/plain": [
       "(array([1, 1, 1]), ['head', 'head', 'head'])"
      ]
     },
     "execution_count": 21,
     "metadata": {},
     "output_type": "execute_result"
    }
   ],
   "source": [
    "vocab = learn.dls.vocab\n",
    "pred_labels = np.array(np.argmax(preds, axis = 1))\n",
    "labels = [vocab[o] for o in pred_labels] \n",
    "\n",
    "pred_labels[:3], labels[:3]"
   ]
  },
  {
   "cell_type": "markdown",
   "id": "a71db3d0",
   "metadata": {
    "papermill": {
     "duration": 0.012322,
     "end_time": "2022-09-16T02:21:29.369198",
     "exception": false,
     "start_time": "2022-09-16T02:21:29.356876",
     "status": "completed"
    },
    "tags": []
   },
   "source": [
    "## Add labels to dataframe"
   ]
  },
  {
   "cell_type": "code",
   "execution_count": 22,
   "id": "f31024f0",
   "metadata": {
    "execution": {
     "iopub.execute_input": "2022-09-16T02:21:29.395151Z",
     "iopub.status.busy": "2022-09-16T02:21:29.394812Z",
     "iopub.status.idle": "2022-09-16T02:21:29.452643Z",
     "shell.execute_reply": "2022-09-16T02:21:29.451475Z"
    },
    "papermill": {
     "duration": 0.073677,
     "end_time": "2022-09-16T02:21:29.455119",
     "exception": false,
     "start_time": "2022-09-16T02:21:29.381442",
     "status": "completed"
    },
    "tags": []
   },
   "outputs": [
    {
     "data": {
      "text/html": [
       "<div>\n",
       "<style scoped>\n",
       "    .dataframe tbody tr th:only-of-type {\n",
       "        vertical-align: middle;\n",
       "    }\n",
       "\n",
       "    .dataframe tbody tr th {\n",
       "        vertical-align: top;\n",
       "    }\n",
       "\n",
       "    .dataframe thead th {\n",
       "        text-align: right;\n",
       "    }\n",
       "</style>\n",
       "<table border=\"1\" class=\"dataframe\">\n",
       "  <thead>\n",
       "    <tr style=\"text-align: right;\">\n",
       "      <th></th>\n",
       "      <th>study_id</th>\n",
       "      <th>slice</th>\n",
       "      <th>label</th>\n",
       "      <th>label_int</th>\n",
       "    </tr>\n",
       "  </thead>\n",
       "  <tbody>\n",
       "    <tr>\n",
       "      <th>39334</th>\n",
       "      <td>1.2.826.0.1.3680043.10001</td>\n",
       "      <td>2</td>\n",
       "      <td>head</td>\n",
       "      <td>0</td>\n",
       "    </tr>\n",
       "    <tr>\n",
       "      <th>39357</th>\n",
       "      <td>1.2.826.0.1.3680043.10001</td>\n",
       "      <td>7</td>\n",
       "      <td>head</td>\n",
       "      <td>0</td>\n",
       "    </tr>\n",
       "    <tr>\n",
       "      <th>39212</th>\n",
       "      <td>1.2.826.0.1.3680043.10001</td>\n",
       "      <td>12</td>\n",
       "      <td>head</td>\n",
       "      <td>0</td>\n",
       "    </tr>\n",
       "    <tr>\n",
       "      <th>39327</th>\n",
       "      <td>1.2.826.0.1.3680043.10001</td>\n",
       "      <td>17</td>\n",
       "      <td>head</td>\n",
       "      <td>0</td>\n",
       "    </tr>\n",
       "    <tr>\n",
       "      <th>39228</th>\n",
       "      <td>1.2.826.0.1.3680043.10001</td>\n",
       "      <td>22</td>\n",
       "      <td>head</td>\n",
       "      <td>0</td>\n",
       "    </tr>\n",
       "  </tbody>\n",
       "</table>\n",
       "</div>"
      ],
      "text/plain": [
       "                        study_id  slice label  label_int\n",
       "39334  1.2.826.0.1.3680043.10001      2  head          0\n",
       "39357  1.2.826.0.1.3680043.10001      7  head          0\n",
       "39212  1.2.826.0.1.3680043.10001     12  head          0\n",
       "39327  1.2.826.0.1.3680043.10001     17  head          0\n",
       "39228  1.2.826.0.1.3680043.10001     22  head          0"
      ]
     },
     "execution_count": 22,
     "metadata": {},
     "output_type": "execute_result"
    }
   ],
   "source": [
    "tdf['label'] = labels\n",
    "\n",
    "label_dict = {'head':0, 'cspine':1, 'tspine':0}\n",
    "tdf['label_int'] = tdf.label.apply(lambda x: label_dict[x])\n",
    "tdf.head()"
   ]
  },
  {
   "cell_type": "code",
   "execution_count": 23,
   "id": "66f5fd34",
   "metadata": {
    "execution": {
     "iopub.execute_input": "2022-09-16T02:21:29.482592Z",
     "iopub.status.busy": "2022-09-16T02:21:29.481670Z",
     "iopub.status.idle": "2022-09-16T02:21:29.486521Z",
     "shell.execute_reply": "2022-09-16T02:21:29.485516Z"
    },
    "papermill": {
     "duration": 0.020221,
     "end_time": "2022-09-16T02:21:29.488398",
     "exception": false,
     "start_time": "2022-09-16T02:21:29.468177",
     "status": "completed"
    },
    "tags": []
   },
   "outputs": [],
   "source": [
    "#fn = train_folder/f'1.2.826.0.1.3680043.1479/1.dcm'\n",
    "# fn = train_folder/f'1.2.826.0.1.3680043.16206/57.dcm'\n",
    "# im = PILDicom2.create(fn)\n",
    "# plt.imshow(im)"
   ]
  },
  {
   "cell_type": "code",
   "execution_count": 24,
   "id": "075ea1fd",
   "metadata": {
    "execution": {
     "iopub.execute_input": "2022-09-16T02:21:29.515145Z",
     "iopub.status.busy": "2022-09-16T02:21:29.514242Z",
     "iopub.status.idle": "2022-09-16T02:21:29.589835Z",
     "shell.execute_reply": "2022-09-16T02:21:29.588846Z"
    },
    "papermill": {
     "duration": 0.091152,
     "end_time": "2022-09-16T02:21:29.592109",
     "exception": false,
     "start_time": "2022-09-16T02:21:29.500957",
     "status": "completed"
    },
    "tags": []
   },
   "outputs": [],
   "source": [
    "tdf.to_csv('preds.csv', index=False)"
   ]
  },
  {
   "cell_type": "code",
   "execution_count": 25,
   "id": "20110787",
   "metadata": {
    "execution": {
     "iopub.execute_input": "2022-09-16T02:21:29.619478Z",
     "iopub.status.busy": "2022-09-16T02:21:29.619167Z",
     "iopub.status.idle": "2022-09-16T02:21:29.624360Z",
     "shell.execute_reply": "2022-09-16T02:21:29.623456Z"
    },
    "papermill": {
     "duration": 0.021533,
     "end_time": "2022-09-16T02:21:29.626353",
     "exception": false,
     "start_time": "2022-09-16T02:21:29.604820",
     "status": "completed"
    },
    "tags": []
   },
   "outputs": [],
   "source": [
    "#DEBUG\n",
    "\n",
    "# tdf = pd.read_csv('../input/cspine-data/preds.csv')\n",
    "# tdf.head()"
   ]
  },
  {
   "cell_type": "markdown",
   "id": "4c1ced95",
   "metadata": {
    "papermill": {
     "duration": 0.012587,
     "end_time": "2022-09-16T02:21:29.651353",
     "exception": false,
     "start_time": "2022-09-16T02:21:29.638766",
     "status": "completed"
    },
    "tags": []
   },
   "source": [
    "## Get min/max of predicted slices\n",
    "\n",
    "The predictions go through 2 rounds of simple template smoothing. If a CSpine is between 2 non-Cspine images, that image gets demoted and if a non-CSpine image is between two positives, it gets promoted.\n",
    "\n",
    "The large central 50% gap between slices is expanded on either side if there are CSpine images. This prevents false positives at first and last slice to be ignored, since those would not be smoothed out."
   ]
  },
  {
   "cell_type": "code",
   "execution_count": 26,
   "id": "41408f4a",
   "metadata": {
    "execution": {
     "iopub.execute_input": "2022-09-16T02:21:29.678307Z",
     "iopub.status.busy": "2022-09-16T02:21:29.677826Z",
     "iopub.status.idle": "2022-09-16T02:21:29.690053Z",
     "shell.execute_reply": "2022-09-16T02:21:29.689171Z"
    },
    "papermill": {
     "duration": 0.027489,
     "end_time": "2022-09-16T02:21:29.691994",
     "exception": false,
     "start_time": "2022-09-16T02:21:29.664505",
     "status": "completed"
    },
    "tags": []
   },
   "outputs": [],
   "source": [
    "window_size = 3\n",
    "  \n",
    "# Convert array of integers to pandas series\n",
    "\n",
    "def smooth_step(numbers_series):\n",
    "    # Get the window of series\n",
    "    # of observations of specified window size\n",
    "    windows = numbers_series.rolling(window_size)\n",
    "\n",
    "    for w in windows:\n",
    "        if len(w == 3):\n",
    "            i = w.keys().start + 1\n",
    "            if np.array_equal(w.values, [1, 0, 1]):\n",
    "                #print('0 to 1 ', i)\n",
    "                numbers_series[i] = 1\n",
    "            if np.array_equal(w.values, [0, 1, 0]):\n",
    "                #print('1 to 0 ', i)\n",
    "                numbers_series[i] = 0\n",
    "    return numbers_series\n",
    "\n",
    "def smooth(arr):\n",
    "    numbers_series = pd.Series(arr)\n",
    "    numbers_series = smooth_step(numbers_series)\n",
    "    numbers_series = smooth_step(numbers_series)\n",
    "    return numbers_series\n",
    "\n",
    "def get_range(df_group):\n",
    "    study_assess = pd.Series(dtype='object')\n",
    "\n",
    "    #above\n",
    "    above = df_group.label_int.values[:12].copy()\n",
    "    above = smooth(above)\n",
    "    not_cspine = np.where(above != 1)\n",
    "    i = not_cspine[0]\n",
    "    if len(i) == 0:\n",
    "        i = 0\n",
    "    else:\n",
    "        i = i.max()\n",
    "    \n",
    "    slices = df_group.slice.values\n",
    "    top_range = slices[i] + 1\n",
    "    \n",
    "    #below\n",
    "    below = df_group.label_int.values[12:].copy()\n",
    "    below = smooth(below)\n",
    "    not_cspine = np.where(below != 1)\n",
    "    i = not_cspine[0]\n",
    "    if len(i) == 0:\n",
    "        i = len(below)-1\n",
    "    else:\n",
    "        i = i.min()\n",
    "\n",
    "    if (len(above) + i) >= len(slices):\n",
    "        print(study_id, len(above) + i, len(slices), len(above), i, len(below))\n",
    "        bottom_range = slices[-1]\n",
    "    else:\n",
    "        bottom_range = slices[len(above) + i] - 1\n",
    "\n",
    "    study_assess['top_range'] = top_range\n",
    "    study_assess['bottom_range'] = bottom_range\n",
    "    return study_assess\n",
    "\n"
   ]
  },
  {
   "cell_type": "code",
   "execution_count": 27,
   "id": "792813b4",
   "metadata": {
    "execution": {
     "iopub.execute_input": "2022-09-16T02:21:29.718227Z",
     "iopub.status.busy": "2022-09-16T02:21:29.717423Z",
     "iopub.status.idle": "2022-09-16T02:21:48.544838Z",
     "shell.execute_reply": "2022-09-16T02:21:48.543823Z"
    },
    "papermill": {
     "duration": 18.843469,
     "end_time": "2022-09-16T02:21:48.547735",
     "exception": false,
     "start_time": "2022-09-16T02:21:29.704266",
     "status": "completed"
    },
    "tags": []
   },
   "outputs": [
    {
     "data": {
      "text/html": [
       "<div>\n",
       "<style scoped>\n",
       "    .dataframe tbody tr th:only-of-type {\n",
       "        vertical-align: middle;\n",
       "    }\n",
       "\n",
       "    .dataframe tbody tr th {\n",
       "        vertical-align: top;\n",
       "    }\n",
       "\n",
       "    .dataframe thead th {\n",
       "        text-align: right;\n",
       "    }\n",
       "</style>\n",
       "<table border=\"1\" class=\"dataframe\">\n",
       "  <thead>\n",
       "    <tr style=\"text-align: right;\">\n",
       "      <th></th>\n",
       "      <th>study_id</th>\n",
       "      <th>top_range</th>\n",
       "      <th>bottom_range</th>\n",
       "    </tr>\n",
       "  </thead>\n",
       "  <tbody>\n",
       "    <tr>\n",
       "      <th>0</th>\n",
       "      <td>1.2.826.0.1.3680043.10001</td>\n",
       "      <td>48</td>\n",
       "      <td>236</td>\n",
       "    </tr>\n",
       "    <tr>\n",
       "      <th>1</th>\n",
       "      <td>1.2.826.0.1.3680043.10005</td>\n",
       "      <td>3</td>\n",
       "      <td>201</td>\n",
       "    </tr>\n",
       "    <tr>\n",
       "      <th>2</th>\n",
       "      <td>1.2.826.0.1.3680043.10014</td>\n",
       "      <td>48</td>\n",
       "      <td>251</td>\n",
       "    </tr>\n",
       "    <tr>\n",
       "      <th>3</th>\n",
       "      <td>1.2.826.0.1.3680043.10016</td>\n",
       "      <td>111</td>\n",
       "      <td>505</td>\n",
       "    </tr>\n",
       "    <tr>\n",
       "      <th>4</th>\n",
       "      <td>1.2.826.0.1.3680043.10032</td>\n",
       "      <td>69</td>\n",
       "      <td>289</td>\n",
       "    </tr>\n",
       "  </tbody>\n",
       "</table>\n",
       "</div>"
      ],
      "text/plain": [
       "                    study_id  top_range  bottom_range\n",
       "0  1.2.826.0.1.3680043.10001         48           236\n",
       "1  1.2.826.0.1.3680043.10005          3           201\n",
       "2  1.2.826.0.1.3680043.10014         48           251\n",
       "3  1.2.826.0.1.3680043.10016        111           505\n",
       "4  1.2.826.0.1.3680043.10032         69           289"
      ]
     },
     "execution_count": 27,
     "metadata": {},
     "output_type": "execute_result"
    }
   ],
   "source": [
    "pred_range_df = tdf.groupby('study_id').apply(get_range).reset_index()\n",
    "pred_range_df.head()"
   ]
  },
  {
   "cell_type": "markdown",
   "id": "4f0120ef",
   "metadata": {
    "papermill": {
     "duration": 0.019673,
     "end_time": "2022-09-16T02:21:48.590093",
     "exception": false,
     "start_time": "2022-09-16T02:21:48.570420",
     "status": "completed"
    },
    "tags": []
   },
   "source": [
    "## Range of images in segmented set"
   ]
  },
  {
   "cell_type": "code",
   "execution_count": 28,
   "id": "0b0d2df6",
   "metadata": {
    "execution": {
     "iopub.execute_input": "2022-09-16T02:21:48.630871Z",
     "iopub.status.busy": "2022-09-16T02:21:48.630555Z",
     "iopub.status.idle": "2022-09-16T02:21:48.673262Z",
     "shell.execute_reply": "2022-09-16T02:21:48.672188Z"
    },
    "papermill": {
     "duration": 0.066861,
     "end_time": "2022-09-16T02:21:48.676081",
     "exception": false,
     "start_time": "2022-09-16T02:21:48.609220",
     "status": "completed"
    },
    "tags": []
   },
   "outputs": [],
   "source": [
    "# segs\n",
    "df = pd.read_csv('../input/cspine-data/spine_labels.csv')"
   ]
  },
  {
   "cell_type": "code",
   "execution_count": 29,
   "id": "724ff3f7",
   "metadata": {
    "execution": {
     "iopub.execute_input": "2022-09-16T02:21:48.717449Z",
     "iopub.status.busy": "2022-09-16T02:21:48.717065Z",
     "iopub.status.idle": "2022-09-16T02:21:48.749505Z",
     "shell.execute_reply": "2022-09-16T02:21:48.748507Z"
    },
    "papermill": {
     "duration": 0.055692,
     "end_time": "2022-09-16T02:21:48.752267",
     "exception": false,
     "start_time": "2022-09-16T02:21:48.696575",
     "status": "completed"
    },
    "tags": []
   },
   "outputs": [
    {
     "data": {
      "text/html": [
       "<div>\n",
       "<style scoped>\n",
       "    .dataframe tbody tr th:only-of-type {\n",
       "        vertical-align: middle;\n",
       "    }\n",
       "\n",
       "    .dataframe tbody tr th {\n",
       "        vertical-align: top;\n",
       "    }\n",
       "\n",
       "    .dataframe thead th {\n",
       "        text-align: right;\n",
       "    }\n",
       "</style>\n",
       "<table border=\"1\" class=\"dataframe\">\n",
       "  <thead>\n",
       "    <tr style=\"text-align: right;\">\n",
       "      <th></th>\n",
       "      <th>study_id</th>\n",
       "      <th>top_range</th>\n",
       "      <th>bottom_range</th>\n",
       "    </tr>\n",
       "  </thead>\n",
       "  <tbody>\n",
       "    <tr>\n",
       "      <th>0</th>\n",
       "      <td>1.2.826.0.1.3680043.10633</td>\n",
       "      <td>113</td>\n",
       "      <td>334</td>\n",
       "    </tr>\n",
       "    <tr>\n",
       "      <th>1</th>\n",
       "      <td>1.2.826.0.1.3680043.10921</td>\n",
       "      <td>53</td>\n",
       "      <td>247</td>\n",
       "    </tr>\n",
       "    <tr>\n",
       "      <th>2</th>\n",
       "      <td>1.2.826.0.1.3680043.11827</td>\n",
       "      <td>2</td>\n",
       "      <td>199</td>\n",
       "    </tr>\n",
       "    <tr>\n",
       "      <th>3</th>\n",
       "      <td>1.2.826.0.1.3680043.11988</td>\n",
       "      <td>48</td>\n",
       "      <td>195</td>\n",
       "    </tr>\n",
       "    <tr>\n",
       "      <th>4</th>\n",
       "      <td>1.2.826.0.1.3680043.12281</td>\n",
       "      <td>69</td>\n",
       "      <td>295</td>\n",
       "    </tr>\n",
       "  </tbody>\n",
       "</table>\n",
       "</div>"
      ],
      "text/plain": [
       "                    study_id  top_range  bottom_range\n",
       "0  1.2.826.0.1.3680043.10633        113           334\n",
       "1  1.2.826.0.1.3680043.10921         53           247\n",
       "2  1.2.826.0.1.3680043.11827          2           199\n",
       "3  1.2.826.0.1.3680043.11988         48           195\n",
       "4  1.2.826.0.1.3680043.12281         69           295"
      ]
     },
     "execution_count": 29,
     "metadata": {},
     "output_type": "execute_result"
    }
   ],
   "source": [
    "seg_range_df = df[df.label == 'cspine'].groupby('study_id')['slice'].agg(top_range = 'min',bottom_range = 'max').reset_index()\n",
    "seg_range_df.head()"
   ]
  },
  {
   "cell_type": "markdown",
   "id": "b6d8123e",
   "metadata": {
    "papermill": {
     "duration": 0.019259,
     "end_time": "2022-09-16T02:21:48.791403",
     "exception": false,
     "start_time": "2022-09-16T02:21:48.772144",
     "status": "completed"
    },
    "tags": []
   },
   "source": [
    "## Concat both predicted and segmented and save to .csv"
   ]
  },
  {
   "cell_type": "code",
   "execution_count": 30,
   "id": "d6d5741b",
   "metadata": {
    "execution": {
     "iopub.execute_input": "2022-09-16T02:21:48.840966Z",
     "iopub.status.busy": "2022-09-16T02:21:48.840621Z",
     "iopub.status.idle": "2022-09-16T02:21:48.855877Z",
     "shell.execute_reply": "2022-09-16T02:21:48.855003Z"
    },
    "papermill": {
     "duration": 0.045996,
     "end_time": "2022-09-16T02:21:48.857964",
     "exception": false,
     "start_time": "2022-09-16T02:21:48.811968",
     "status": "completed"
    },
    "tags": []
   },
   "outputs": [],
   "source": [
    "final_df = pd.concat([pred_range_df, seg_range_df])\n",
    "final_df.to_csv('study_ranges_with_cspine.csv', index = False)"
   ]
  },
  {
   "cell_type": "code",
   "execution_count": 31,
   "id": "dd80eaab",
   "metadata": {
    "execution": {
     "iopub.execute_input": "2022-09-16T02:21:48.885592Z",
     "iopub.status.busy": "2022-09-16T02:21:48.884757Z",
     "iopub.status.idle": "2022-09-16T02:21:48.891382Z",
     "shell.execute_reply": "2022-09-16T02:21:48.890365Z"
    },
    "papermill": {
     "duration": 0.022534,
     "end_time": "2022-09-16T02:21:48.893411",
     "exception": false,
     "start_time": "2022-09-16T02:21:48.870877",
     "status": "completed"
    },
    "tags": []
   },
   "outputs": [
    {
     "data": {
      "text/plain": [
       "(2019, 3)"
      ]
     },
     "execution_count": 31,
     "metadata": {},
     "output_type": "execute_result"
    }
   ],
   "source": [
    "final_df.shape"
   ]
  },
  {
   "cell_type": "markdown",
   "id": "df3abcaf",
   "metadata": {
    "papermill": {
     "duration": 0.012977,
     "end_time": "2022-09-16T02:21:48.920005",
     "exception": false,
     "start_time": "2022-09-16T02:21:48.907028",
     "status": "completed"
    },
    "tags": []
   },
   "source": [
    "## Show a few examples with predicted ranges"
   ]
  },
  {
   "cell_type": "markdown",
   "id": "8c53fc86",
   "metadata": {
    "papermill": {
     "duration": 0.013119,
     "end_time": "2022-09-16T02:21:48.946193",
     "exception": false,
     "start_time": "2022-09-16T02:21:48.933074",
     "status": "completed"
    },
    "tags": []
   },
   "source": [
    "### List of filenames for 3D"
   ]
  },
  {
   "cell_type": "code",
   "execution_count": 32,
   "id": "ec6f6c89",
   "metadata": {
    "execution": {
     "iopub.execute_input": "2022-09-16T02:21:48.973880Z",
     "iopub.status.busy": "2022-09-16T02:21:48.972961Z",
     "iopub.status.idle": "2022-09-16T02:21:48.978180Z",
     "shell.execute_reply": "2022-09-16T02:21:48.977231Z"
    },
    "papermill": {
     "duration": 0.021179,
     "end_time": "2022-09-16T02:21:48.980274",
     "exception": false,
     "start_time": "2022-09-16T02:21:48.959095",
     "status": "completed"
    },
    "tags": []
   },
   "outputs": [],
   "source": [
    "def filename_list_from_range(study_id, first, last, image_folder):\n",
    "    return [image_folder/study_id/f'{o}.dcm' for o in range(first, last + 1)]"
   ]
  },
  {
   "cell_type": "code",
   "execution_count": 33,
   "id": "b1678376",
   "metadata": {
    "execution": {
     "iopub.execute_input": "2022-09-16T02:21:49.007715Z",
     "iopub.status.busy": "2022-09-16T02:21:49.007422Z",
     "iopub.status.idle": "2022-09-16T02:21:49.014370Z",
     "shell.execute_reply": "2022-09-16T02:21:49.013364Z"
    },
    "papermill": {
     "duration": 0.022834,
     "end_time": "2022-09-16T02:21:49.016370",
     "exception": false,
     "start_time": "2022-09-16T02:21:48.993536",
     "status": "completed"
    },
    "tags": []
   },
   "outputs": [],
   "source": [
    "def read_dicom(dcm, voi_lut = True, fix_monochrome = True):\n",
    "    '''ref: https://www.kaggle.com/code/raddar/convert-dicom-to-np-array-the-correct-way\n",
    "    '''\n",
    "    \n",
    "    # VOI LUT (if available by DICOM device) is used to transform raw DICOM data to \"human-friendly\" view\n",
    "    if voi_lut:\n",
    "        data = pydicom.pixel_data_handlers.util.apply_voi_lut(dcm.pixel_array, dcm)\n",
    "    else:\n",
    "        data = dcm.pixel_array\n",
    "               \n",
    "    # depending on this value, X-ray may look inverted - fix that:\n",
    "    if fix_monochrome and dcm.PhotometricInterpretation == \"MONOCHROME1\":\n",
    "        data = np.amax(data) - data\n",
    "        \n",
    "    data = data - np.min(data)\n",
    "    data = data / np.max(data)\n",
    "    data = (data * 255).astype(np.uint8)\n",
    "    return data"
   ]
  },
  {
   "cell_type": "code",
   "execution_count": 34,
   "id": "14950447",
   "metadata": {
    "execution": {
     "iopub.execute_input": "2022-09-16T02:21:49.044631Z",
     "iopub.status.busy": "2022-09-16T02:21:49.043060Z",
     "iopub.status.idle": "2022-09-16T02:21:49.051513Z",
     "shell.execute_reply": "2022-09-16T02:21:49.050606Z"
    },
    "papermill": {
     "duration": 0.024233,
     "end_time": "2022-09-16T02:21:49.053550",
     "exception": false,
     "start_time": "2022-09-16T02:21:49.029317",
     "status": "completed"
    },
    "tags": []
   },
   "outputs": [],
   "source": [
    "#Adapted from Pydicom: 'Load CT slices and plot axial, sagittal and coronal images'\n",
    "def create_3d_from_filenames(filenames):\n",
    "    files = [pydicom.dcmread(fn) for fn in filenames]\n",
    "\n",
    "    # skip files with no InstanceNumber (eg. Scout)\n",
    "    slices = []\n",
    "    skipcount = 0\n",
    "    for f in files:\n",
    "        if hasattr(f, 'InstanceNumber'):\n",
    "            slices.append(f)\n",
    "        else:\n",
    "            skipcount = skipcount + 1\n",
    "\n",
    "    if skipcount > 0:\n",
    "        print(\"skipped, no InstanceNumber: {}\".format(skipcount))\n",
    "\n",
    "    # ensure they are in the correct order\n",
    "    slices = sorted(slices, key=lambda s: s.ImagePositionPatient[2])\n",
    "    dcm = slices[0]\n",
    "\n",
    "    # pixel aspects, assuming all slices are the same\n",
    "    ps = dcm.PixelSpacing\n",
    "    ss = dcm.SliceThickness\n",
    "    #ax_aspect = ps[1]/ps[0]\n",
    "    #sag_aspect = ps[1]/ss\n",
    "    #cor_aspect = ss/ps[0]\n",
    "\n",
    "    # create 3D array\n",
    "    img_shape = list(dcm.pixel_array.shape)\n",
    "    img_shape.append(len(slices))\n",
    "    img3d = np.zeros(img_shape)\n",
    "    \n",
    "    # fill 3D array with the images from the files\n",
    "    for i, s in enumerate(slices):\n",
    "        img2d = read_dicom(s, voi_lut = False)\n",
    "        img3d[:, :, i] = img2d\n",
    "        \n",
    "    return img3d, ps, ss"
   ]
  },
  {
   "cell_type": "code",
   "execution_count": 35,
   "id": "37f55334",
   "metadata": {
    "execution": {
     "iopub.execute_input": "2022-09-16T02:21:49.081055Z",
     "iopub.status.busy": "2022-09-16T02:21:49.080033Z",
     "iopub.status.idle": "2022-09-16T02:21:49.087191Z",
     "shell.execute_reply": "2022-09-16T02:21:49.086341Z"
    },
    "papermill": {
     "duration": 0.022852,
     "end_time": "2022-09-16T02:21:49.089111",
     "exception": false,
     "start_time": "2022-09-16T02:21:49.066259",
     "status": "completed"
    },
    "tags": []
   },
   "outputs": [],
   "source": [
    "#df = pred_range_df\n",
    "def get_center_sag(img3d):\n",
    "    i = int(img3d.shape[1]/2)\n",
    "    \n",
    "    arr = img3d[:,i,:] \n",
    "    #flip and rotate so that C1 is at the top\n",
    "    arr = np.transpose(arr)\n",
    "    arr = np.flip(arr, 0)\n",
    "   \n",
    "    return arr\n",
    "\n",
    "def create_center_image(index, range_df):\n",
    "    row = range_df.iloc[index]\n",
    "    study_id = row.study_id\n",
    "    first = row.top_range\n",
    "    last = row.bottom_range\n",
    "    filenames = filename_list_from_range(study_id, first, last, train_folder)\n",
    "\n",
    "    img3d, _, _ = create_3d_from_filenames(filenames)\n",
    "    arr = get_center_sag(img3d)\n",
    "    im = Image.fromarray(arr)\n",
    "    return im, first, last, study_id"
   ]
  },
  {
   "cell_type": "code",
   "execution_count": 36,
   "id": "673bed08",
   "metadata": {
    "execution": {
     "iopub.execute_input": "2022-09-16T02:21:49.117301Z",
     "iopub.status.busy": "2022-09-16T02:21:49.116477Z",
     "iopub.status.idle": "2022-09-16T02:21:49.123275Z",
     "shell.execute_reply": "2022-09-16T02:21:49.122409Z"
    },
    "papermill": {
     "duration": 0.023144,
     "end_time": "2022-09-16T02:21:49.125263",
     "exception": false,
     "start_time": "2022-09-16T02:21:49.102119",
     "status": "completed"
    },
    "tags": []
   },
   "outputs": [],
   "source": [
    "def show_cases(indices, aspect = 2):\n",
    "    fig, axs = plt.subplots(4,4, figsize=(16, 12))\n",
    "    axs = axs.flatten()\n",
    "    for i in range(len(axs)):\n",
    "        img, first, last, study_id = create_center_image(indices[i], pred_range_df)\n",
    "        axs[i].set_title(f'{study_id}\\n {first} - {last}')\n",
    "        axs[i].imshow(img, cmap='bone')\n",
    "     \n",
    "        axs[i].axis(\"off\")\n",
    "        axs[i].set_aspect(aspect)\n",
    "    plt.show()"
   ]
  },
  {
   "cell_type": "markdown",
   "id": "4d303221",
   "metadata": {
    "papermill": {
     "duration": 0.012706,
     "end_time": "2022-09-16T02:21:49.150829",
     "exception": false,
     "start_time": "2022-09-16T02:21:49.138123",
     "status": "completed"
    },
    "tags": []
   },
   "source": [
    "# Sample images\n",
    "\n",
    "The images are getting the entire cspine although it may be prudent to give a small cushion above and below."
   ]
  },
  {
   "cell_type": "code",
   "execution_count": 37,
   "id": "b82f0946",
   "metadata": {
    "execution": {
     "iopub.execute_input": "2022-09-16T02:21:49.178231Z",
     "iopub.status.busy": "2022-09-16T02:21:49.177907Z",
     "iopub.status.idle": "2022-09-16T02:21:49.182475Z",
     "shell.execute_reply": "2022-09-16T02:21:49.181481Z"
    },
    "papermill": {
     "duration": 0.020708,
     "end_time": "2022-09-16T02:21:49.184408",
     "exception": false,
     "start_time": "2022-09-16T02:21:49.163700",
     "status": "completed"
    },
    "tags": []
   },
   "outputs": [],
   "source": [
    "indices = [0,100, 20,30, 300, 500,550, 600, 650, 700, 750, 800, 850, 900, 950, 1000]"
   ]
  },
  {
   "cell_type": "code",
   "execution_count": 38,
   "id": "373a378e",
   "metadata": {
    "execution": {
     "iopub.execute_input": "2022-09-16T02:21:49.211475Z",
     "iopub.status.busy": "2022-09-16T02:21:49.210927Z",
     "iopub.status.idle": "2022-09-16T02:23:16.187831Z",
     "shell.execute_reply": "2022-09-16T02:23:16.186324Z"
    },
    "papermill": {
     "duration": 87.03477,
     "end_time": "2022-09-16T02:23:16.232025",
     "exception": false,
     "start_time": "2022-09-16T02:21:49.197255",
     "status": "completed"
    },
    "tags": []
   },
   "outputs": [
    {
     "data": {
      "image/png": "[encoded data removed]",
      "text/plain": [
       "<Figure size 1152x864 with 16 Axes>"
      ]
     },
     "metadata": {
      "needs_background": "light"
     },
     "output_type": "display_data"
    }
   ],
   "source": [
    "show_cases(indices)"
   ]
  },
  {
   "cell_type": "markdown",
   "id": "9d137ec5",
   "metadata": {
    "papermill": {
     "duration": 0.028707,
     "end_time": "2022-09-16T02:23:16.296227",
     "exception": false,
     "start_time": "2022-09-16T02:23:16.267520",
     "status": "completed"
    },
    "tags": []
   },
   "source": [
    "# Image Count: Before & After"
   ]
  },
  {
   "cell_type": "code",
   "execution_count": 39,
   "id": "2082812c",
   "metadata": {
    "execution": {
     "iopub.execute_input": "2022-09-16T02:23:16.355355Z",
     "iopub.status.busy": "2022-09-16T02:23:16.354909Z",
     "iopub.status.idle": "2022-09-16T02:23:16.367659Z",
     "shell.execute_reply": "2022-09-16T02:23:16.366800Z"
    },
    "papermill": {
     "duration": 0.045026,
     "end_time": "2022-09-16T02:23:16.370243",
     "exception": false,
     "start_time": "2022-09-16T02:23:16.325217",
     "status": "completed"
    },
    "tags": []
   },
   "outputs": [
    {
     "data": {
      "text/plain": [
       "(711601, 477661, 233940)"
      ]
     },
     "execution_count": 39,
     "metadata": {},
     "output_type": "execute_result"
    }
   ],
   "source": [
    "num_images_before = fndf.shape[0]\n",
    "\n",
    "dff = final_df.copy()\n",
    "dff['total'] = dff.bottom_range - dff.top_range + 1\n",
    "num_images_after = dff.total.sum()\n",
    "\n",
    "num_images_before, num_images_after, num_images_before - num_images_after"
   ]
  },
  {
   "cell_type": "code",
   "execution_count": 40,
   "id": "bffcce4d",
   "metadata": {
    "execution": {
     "iopub.execute_input": "2022-09-16T02:23:16.430222Z",
     "iopub.status.busy": "2022-09-16T02:23:16.429839Z",
     "iopub.status.idle": "2022-09-16T02:23:16.436251Z",
     "shell.execute_reply": "2022-09-16T02:23:16.435417Z"
    },
    "papermill": {
     "duration": 0.042388,
     "end_time": "2022-09-16T02:23:16.441631",
     "exception": false,
     "start_time": "2022-09-16T02:23:16.399243",
     "status": "completed"
    },
    "tags": []
   },
   "outputs": [
    {
     "data": {
      "text/plain": [
       "0.6712483540635834"
      ]
     },
     "execution_count": 40,
     "metadata": {},
     "output_type": "execute_result"
    }
   ],
   "source": [
    "num_images_after/num_images_before"
   ]
  }
 ],
 "metadata": {
  "kernelspec": {
   "display_name": "Python 3",
   "language": "python",
   "name": "python3"
  },
  "language_info": {
   "codemirror_mode": {
    "name": "ipython",
    "version": 3
   },
   "file_extension": ".py",
   "mimetype": "text/x-python",
   "name": "python",
   "nbconvert_exporter": "python",
   "pygments_lexer": "ipython3",
   "version": "3.7.12"
  },
  "papermill": {
   "default_parameters": {},
   "duration": 5651.314543,
   "end_time": "2022-09-16T02:23:19.680548",
   "environment_variables": {},
   "exception": null,
   "input_path": "__notebook__.ipynb",
   "output_path": "__notebook__.ipynb",
   "parameters": {},
   "start_time": "2022-09-16T00:49:08.366005",
   "version": "2.3.4"
  },
  "widgets": {
   "application/vnd.jupyter.widget-state+json": {
    "state": {
     "12fc03fd4cc6468e975b5e870ad9f4fb": {
      "model_module": "@jupyter-widgets/base",
      "model_module_version": "1.2.0",
      "model_name": "LayoutModel",
      "state": {
       "_model_module": "@jupyter-widgets/base",
       "_model_module_version": "1.2.0",
       "_model_name": "LayoutModel",
       "_view_count": null,
       "_view_module": "@jupyter-widgets/base",
       "_view_module_version": "1.2.0",
       "_view_name": "LayoutView",
       "align_content": null,
       "align_items": null,
       "align_self": null,
       "border": null,
       "bottom": null,
       "display": null,
       "flex": null,
       "flex_flow": null,
       "grid_area": null,
       "grid_auto_columns": null,
       "grid_auto_flow": null,
       "grid_auto_rows": null,
       "grid_column": null,
       "grid_gap": null,
       "grid_row": null,
       "grid_template_areas": null,
       "grid_template_columns": null,
       "grid_template_rows": null,
       "height": null,
       "justify_content": null,
       "justify_items": null,
       "left": null,
       "margin": null,
       "max_height": null,
       "max_width": null,
       "min_height": null,
       "min_width": null,
       "object_fit": null,
       "object_position": null,
       "order": null,
       "overflow": null,
       "overflow_x": null,
       "overflow_y": null,
       "padding": null,
       "right": null,
       "top": null,
       "visibility": null,
       "width": null
      }
     },
     "1f8b91c5ea4c409c8c435db3c734e8c1": {
      "model_module": "@jupyter-widgets/controls",
      "model_module_version": "1.5.0",
      "model_name": "HBoxModel",
      "state": {
       "_dom_classes": [],
       "_model_module": "@jupyter-widgets/controls",
       "_model_module_version": "1.5.0",
       "_model_name": "HBoxModel",
       "_view_count": null,
       "_view_module": "@jupyter-widgets/controls",
       "_view_module_version": "1.5.0",
       "_view_name": "HBoxView",
       "box_style": "",
       "children": [
        "IPY_MODEL_a8a9a16473684b43b11b265bde93fe60",
        "IPY_MODEL_66c7c8afdc324857b31f930fb54151d7",
        "IPY_MODEL_2d443d70c550469c8db065b5808aadb4"
       ],
       "layout": "IPY_MODEL_9acbf70fe41d461ea68b6eebd8fdf8c8"
      }
     },
     "2d443d70c550469c8db065b5808aadb4": {
      "model_module": "@jupyter-widgets/controls",
      "model_module_version": "1.5.0",
      "model_name": "HTMLModel",
      "state": {
       "_dom_classes": [],
       "_model_module": "@jupyter-widgets/controls",
       "_model_module_version": "1.5.0",
       "_model_name": "HTMLModel",
       "_view_count": null,
       "_view_module": "@jupyter-widgets/controls",
       "_view_module_version": "1.5.0",
       "_view_name": "HTMLView",
       "description": "",
       "description_tooltip": null,
       "layout": "IPY_MODEL_fb7ecd0eec714c5799a404676cbae23b",
       "placeholder": "​",
       "style": "IPY_MODEL_42c5d84ce6414458bf78cdb3e8513b29",
       "value": " 83.3M/83.3M [00:04&lt;00:00, 25.3MB/s]"
      }
     },
     "42c5d84ce6414458bf78cdb3e8513b29": {
      "model_module": "@jupyter-widgets/controls",
      "model_module_version": "1.5.0",
      "model_name": "DescriptionStyleModel",
      "state": {
       "_model_module": "@jupyter-widgets/controls",
       "_model_module_version": "1.5.0",
       "_model_name": "DescriptionStyleModel",
       "_view_count": null,
       "_view_module": "@jupyter-widgets/base",
       "_view_module_version": "1.2.0",
       "_view_name": "StyleView",
       "description_width": ""
      }
     },
     "43d8834741734a64bd975e0223c11645": {
      "model_module": "@jupyter-widgets/controls",
      "model_module_version": "1.5.0",
      "model_name": "ProgressStyleModel",
      "state": {
       "_model_module": "@jupyter-widgets/controls",
       "_model_module_version": "1.5.0",
       "_model_name": "ProgressStyleModel",
       "_view_count": null,
       "_view_module": "@jupyter-widgets/base",
       "_view_module_version": "1.2.0",
       "_view_name": "StyleView",
       "bar_color": null,
       "description_width": ""
      }
     },
     "66c7c8afdc324857b31f930fb54151d7": {
      "model_module": "@jupyter-widgets/controls",
      "model_module_version": "1.5.0",
      "model_name": "FloatProgressModel",
      "state": {
       "_dom_classes": [],
       "_model_module": "@jupyter-widgets/controls",
       "_model_module_version": "1.5.0",
       "_model_name": "FloatProgressModel",
       "_view_count": null,
       "_view_module": "@jupyter-widgets/controls",
       "_view_module_version": "1.5.0",
       "_view_name": "ProgressView",
       "bar_style": "success",
       "description": "",
       "description_tooltip": null,
       "layout": "IPY_MODEL_ae86a807f2314953b50cfc91cc614620",
       "max": 87319819.0,
       "min": 0.0,
       "orientation": "horizontal",
       "style": "IPY_MODEL_43d8834741734a64bd975e0223c11645",
       "value": 87319819.0
      }
     },
     "689059d143384e7e98de12912fa87710": {
      "model_module": "@jupyter-widgets/controls",
      "model_module_version": "1.5.0",
      "model_name": "DescriptionStyleModel",
      "state": {
       "_model_module": "@jupyter-widgets/controls",
       "_model_module_version": "1.5.0",
       "_model_name": "DescriptionStyleModel",
       "_view_count": null,
       "_view_module": "@jupyter-widgets/base",
       "_view_module_version": "1.2.0",
       "_view_name": "StyleView",
       "description_width": ""
      }
     },
     "9acbf70fe41d461ea68b6eebd8fdf8c8": {
      "model_module": "@jupyter-widgets/base",
      "model_module_version": "1.2.0",
      "model_name": "LayoutModel",
      "state": {
       "_model_module": "@jupyter-widgets/base",
       "_model_module_version": "1.2.0",
       "_model_name": "LayoutModel",
       "_view_count": null,
       "_view_module": "@jupyter-widgets/base",
       "_view_module_version": "1.2.0",
       "_view_name": "LayoutView",
       "align_content": null,
       "align_items": null,
       "align_self": null,
       "border": null,
       "bottom": null,
       "display": null,
       "flex": null,
       "flex_flow": null,
       "grid_area": null,
       "grid_auto_columns": null,
       "grid_auto_flow": null,
       "grid_auto_rows": null,
       "grid_column": null,
       "grid_gap": null,
       "grid_row": null,
       "grid_template_areas": null,
       "grid_template_columns": null,
       "grid_template_rows": null,
       "height": null,
       "justify_content": null,
       "justify_items": null,
       "left": null,
       "margin": null,
       "max_height": null,
       "max_width": null,
       "min_height": null,
       "min_width": null,
       "object_fit": null,
       "object_position": null,
       "order": null,
       "overflow": null,
       "overflow_x": null,
       "overflow_y": null,
       "padding": null,
       "right": null,
       "top": null,
       "visibility": null,
       "width": null
      }
     },
     "a8a9a16473684b43b11b265bde93fe60": {
      "model_module": "@jupyter-widgets/controls",
      "model_module_version": "1.5.0",
      "model_name": "HTMLModel",
      "state": {
       "_dom_classes": [],
       "_model_module": "@jupyter-widgets/controls",
       "_model_module_version": "1.5.0",
       "_model_name": "HTMLModel",
       "_view_count": null,
       "_view_module": "@jupyter-widgets/controls",
       "_view_module_version": "1.5.0",
       "_view_name": "HTMLView",
       "description": "",
       "description_tooltip": null,
       "layout": "IPY_MODEL_12fc03fd4cc6468e975b5e870ad9f4fb",
       "placeholder": "​",
       "style": "IPY_MODEL_689059d143384e7e98de12912fa87710",
       "value": "100%"
      }
     },
     "ae86a807f2314953b50cfc91cc614620": {
      "model_module": "@jupyter-widgets/base",
      "model_module_version": "1.2.0",
      "model_name": "LayoutModel",
      "state": {
       "_model_module": "@jupyter-widgets/base",
       "_model_module_version": "1.2.0",
       "_model_name": "LayoutModel",
       "_view_count": null,
       "_view_module": "@jupyter-widgets/base",
       "_view_module_version": "1.2.0",
       "_view_name": "LayoutView",
       "align_content": null,
       "align_items": null,
       "align_self": null,
       "border": null,
       "bottom": null,
       "display": null,
       "flex": null,
       "flex_flow": null,
       "grid_area": null,
       "grid_auto_columns": null,
       "grid_auto_flow": null,
       "grid_auto_rows": null,
       "grid_column": null,
       "grid_gap": null,
       "grid_row": null,
       "grid_template_areas": null,
       "grid_template_columns": null,
       "grid_template_rows": null,
       "height": null,
       "justify_content": null,
       "justify_items": null,
       "left": null,
       "margin": null,
       "max_height": null,
       "max_width": null,
       "min_height": null,
       "min_width": null,
       "object_fit": null,
       "object_position": null,
       "order": null,
       "overflow": null,
       "overflow_x": null,
       "overflow_y": null,
       "padding": null,
       "right": null,
       "top": null,
       "visibility": null,
       "width": null
      }
     },
     "fb7ecd0eec714c5799a404676cbae23b": {
      "model_module": "@jupyter-widgets/base",
      "model_module_version": "1.2.0",
      "model_name": "LayoutModel",
      "state": {
       "_model_module": "@jupyter-widgets/base",
       "_model_module_version": "1.2.0",
       "_model_name": "LayoutModel",
       "_view_count": null,
       "_view_module": "@jupyter-widgets/base",
       "_view_module_version": "1.2.0",
       "_view_name": "LayoutView",
       "align_content": null,
       "align_items": null,
       "align_self": null,
       "border": null,
       "bottom": null,
       "display": null,
       "flex": null,
       "flex_flow": null,
       "grid_area": null,
       "grid_auto_columns": null,
       "grid_auto_flow": null,
       "grid_auto_rows": null,
       "grid_column": null,
       "grid_gap": null,
       "grid_row": null,
       "grid_template_areas": null,
       "grid_template_columns": null,
       "grid_template_rows": null,
       "height": null,
       "justify_content": null,
       "justify_items": null,
       "left": null,
       "margin": null,
       "max_height": null,
       "max_width": null,
       "min_height": null,
       "min_width": null,
       "object_fit": null,
       "object_position": null,
       "order": null,
       "overflow": null,
       "overflow_x": null,
       "overflow_y": null,
       "padding": null,
       "right": null,
       "top": null,
       "visibility": null,
       "width": null
      }
     }
    },
    "version_major": 2,
    "version_minor": 0
   }
  }
 },
 "nbformat": 4,
 "nbformat_minor": 5
}
